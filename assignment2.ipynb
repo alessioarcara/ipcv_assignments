{
 "cells": [
  {
   "cell_type": "markdown",
   "metadata": {
    "id": "MNBgGYg_lpVN"
   },
   "source": [
    "# Assignment Module 2: Product Classification\n",
    "\n",
    "The goal of this assignment is to implement a neural network that classifies smartphone pictures of products found in grocery stores. The assignment will be divided into two parts: first, you will be asked to implement from scratch your own neural network for image classification; then, you will fine-tune a pretrained network provided by PyTorch.\n"
   ]
  },
  {
   "cell_type": "markdown",
   "metadata": {
    "id": "dVTQUJ4uYH1w"
   },
   "source": [
    "## Preliminaries: the dataset\n",
    "\n",
    "The dataset you will be using contains natural images of products taken with a smartphone camera in different grocery stores:\n",
    "\n",
    "<p align=\"center\">\n",
    "  <img src=\"https://github.com/marcusklasson/GroceryStoreDataset/raw/master/sample_images/natural/Granny-Smith.jpg\" width=\"150\">\n",
    "  <img src=\"https://github.com/marcusklasson/GroceryStoreDataset/raw/master/sample_images/natural/Pink-Lady.jpg\" width=\"150\">\n",
    "  <img src=\"https://github.com/marcusklasson/GroceryStoreDataset/raw/master/sample_images/natural/Lemon.jpg\" width=\"150\">\n",
    "  <img src=\"https://github.com/marcusklasson/GroceryStoreDataset/raw/master/sample_images/natural/Banana.jpg\" width=\"150\">\n",
    "  <img src=\"https://github.com/marcusklasson/GroceryStoreDataset/raw/master/sample_images/natural/Vine-Tomato.jpg\" width=\"150\">\n",
    "</p>\n",
    "<p align=\"center\">\n",
    "  <img src=\"https://github.com/marcusklasson/GroceryStoreDataset/raw/master/sample_images/natural/Yellow-Onion.jpg\" width=\"150\">\n",
    "  <img src=\"https://github.com/marcusklasson/GroceryStoreDataset/raw/master/sample_images/natural/Green-Bell-Pepper.jpg\" width=\"150\">\n",
    "  <img src=\"https://github.com/marcusklasson/GroceryStoreDataset/raw/master/sample_images/natural/Arla-Standard-Milk.jpg\" width=\"150\">\n",
    "  <img src=\"https://github.com/marcusklasson/GroceryStoreDataset/raw/master/sample_images/natural/Oatly-Natural-Oatghurt.jpg\" width=\"150\">\n",
    "  <img src=\"https://github.com/marcusklasson/GroceryStoreDataset/raw/master/sample_images/natural/Alpro-Fresh-Soy-Milk.jpg\" width=\"150\">\n",
    "</p>\n",
    "\n",
    "The products belong to the following 43 classes:\n",
    "```\n",
    "0.  Apple\n",
    "1.  Avocado\n",
    "2.  Banana\n",
    "3.  Kiwi\n",
    "4.  Lemon\n",
    "5.  Lime\n",
    "6.  Mango\n",
    "7.  Melon\n",
    "8.  Nectarine\n",
    "9.  Orange\n",
    "10. Papaya\n",
    "11. Passion-Fruit\n",
    "12. Peach\n",
    "13. Pear\n",
    "14. Pineapple\n",
    "15. Plum\n",
    "16. Pomegranate\n",
    "17. Red-Grapefruit\n",
    "18. Satsumas\n",
    "19. Juice\n",
    "20. Milk\n",
    "21. Oatghurt\n",
    "22. Oat-Milk\n",
    "23. Sour-Cream\n",
    "24. Sour-Milk\n",
    "25. Soyghurt\n",
    "26. Soy-Milk\n",
    "27. Yoghurt\n",
    "28. Asparagus\n",
    "29. Aubergine\n",
    "30. Cabbage\n",
    "31. Carrots\n",
    "32. Cucumber\n",
    "33. Garlic\n",
    "34. Ginger\n",
    "35. Leek\n",
    "36. Mushroom\n",
    "37. Onion\n",
    "38. Pepper\n",
    "39. Potato\n",
    "40. Red-Beet\n",
    "41. Tomato\n",
    "42. Zucchini\n",
    "```\n",
    "\n",
    "The dataset is split into training (`train`), validation (`val`), and test (`test`) set."
   ]
  },
  {
   "cell_type": "markdown",
   "metadata": {
    "id": "1pdrmJRnJPd8"
   },
   "source": [
    "The following code cells download the dataset and define a `torch.utils.data.Dataset` class to access it. This `Dataset` class will be the starting point of your assignment: use it in your own code and build everything else around it."
   ]
  },
  {
   "cell_type": "code",
   "execution_count": 58,
   "metadata": {
    "id": "POMX_3x-_bZI"
   },
   "outputs": [
    {
     "name": "stdout",
     "output_type": "stream",
     "text": [
      "fatal: destination path 'GroceryStoreDataset' already exists and is not an empty directory.\n"
     ]
    }
   ],
   "source": [
    "!git clone https://github.com/marcusklasson/GroceryStoreDataset.git"
   ]
  },
  {
   "cell_type": "code",
   "execution_count": 142,
   "metadata": {
    "id": "hiF8xGEYlsu8"
   },
   "outputs": [],
   "source": [
    "from pathlib import Path\n",
    "from PIL import Image\n",
    "from torch import Tensor\n",
    "from torch.utils.data import Dataset\n",
    "from typing import List, Tuple"
   ]
  },
  {
   "cell_type": "code",
   "execution_count": 143,
   "metadata": {
    "id": "jROSO2qVDxdD"
   },
   "outputs": [],
   "source": [
    "class GroceryStoreDataset(Dataset):\n",
    "    def __init__(self, split: str, transform=None) -> None:\n",
    "        super().__init__()\n",
    "\n",
    "        self.root = Path(\"GroceryStoreDataset/dataset\")\n",
    "        self.split = split\n",
    "        self.paths, self.labels = self.read_file()\n",
    "\n",
    "        self.transform = transform\n",
    "\n",
    "    def __len__(self) -> int:\n",
    "        return len(self.labels)\n",
    "\n",
    "    def __getitem__(self, idx) -> Tuple[Tensor, int]:\n",
    "        img = Image.open(self.root / self.paths[idx])\n",
    "        label = self.labels[idx]\n",
    "\n",
    "        if self.transform:\n",
    "            img = self.transform(img)\n",
    "\n",
    "        return img, label\n",
    "\n",
    "    def read_file(self) -> Tuple[List[str], List[int]]:\n",
    "        paths = []\n",
    "        labels = []\n",
    "\n",
    "        with open(self.root / f\"{self.split}.txt\") as f:\n",
    "            for line in f:\n",
    "                # path, fine-grained class, coarse-grained class\n",
    "                path, _, label = line.replace(\"\\n\", \"\").split(\", \")\n",
    "                paths.append(path), labels.append(int(label))\n",
    "\n",
    "        return paths, labels\n",
    "\n",
    "    def get_num_classes(self) -> int:\n",
    "        return max(self.labels) + 1"
   ]
  },
  {
   "cell_type": "markdown",
   "metadata": {
    "id": "yBch3dpwNSsW"
   },
   "source": [
    "## Part 1: design your own network\n",
    "\n",
    "Your goal is to implement a convolutional neural network for image classification and train it on `GroceryStoreDataset`. You should consider yourselves satisfied once you obtain a classification accuracy on the **validation** split of **around 60%**. You are free to achieve that however you want, except for a few rules you must follow:\n",
    "\n",
    "- You **cannot** simply instantiate an off-the-self PyTorch network. Instead, you must construct your network as a composition of existing PyTorch layers. In more concrete terms, you can use e.g. `torch.nn.Linear`, but you **cannot** use e.g. `torchvision.models.alexnet`.\n",
    "\n",
    "- Justify every *design choice* you make. Design choices include network architecture, training hyperparameters, and, possibly, dataset preprocessing steps. You can either (i) start from the simplest convolutional network you can think of and add complexity one step at a time, while showing how each step gets you closer to the target ~60%, or (ii) start from a model that is already able to achieve the desired accuracy and show how, by removing some of its components, its performance drops (i.e. an *ablation study*). You can *show* your results/improvements however you want: training plots, console-printed values or tables, or whatever else your heart desires: the clearer, the better.\n",
    "\n",
    "Don't be too concerned with your network performance: the ~60% is just to give you an idea of when to stop. Keep in mind that a thoroughly justified model with lower accuracy will be rewarded **more** points than a poorly experimentally validated model with higher accuracy."
   ]
  },
  {
   "cell_type": "code",
   "execution_count": 144,
   "metadata": {},
   "outputs": [],
   "source": [
    "import matplotlib.pyplot as plt\n",
    "import torch\n",
    "import torch.nn as nn\n",
    "import torch.nn.functional as F\n",
    "from torch.utils.data import DataLoader\n",
    "from torchvision.transforms import v2\n",
    "from functools import partial\n",
    "from torch.utils.tensorboard import SummaryWriter\n",
    "from sklearn.metrics import confusion_matrix\n",
    "import itertools\n",
    "import numpy as np\n",
    "import io\n",
    "import tqdm"
   ]
  },
  {
   "cell_type": "code",
   "execution_count": 145,
   "metadata": {},
   "outputs": [
    {
     "name": "stdout",
     "output_type": "stream",
     "text": [
      "zsh:1: no matches found: runs/*\n"
     ]
    }
   ],
   "source": [
    "!rm -r runs/*"
   ]
  },
  {
   "cell_type": "code",
   "execution_count": 159,
   "metadata": {},
   "outputs": [],
   "source": [
    "config = {\n",
    "    \"num_epochs\": 20,\n",
    "    \"lr\": 1e-3,\n",
    "    \"batch_size\": 32,\n",
    "    \"ls\": 0.01,\n",
    "    \"weight_decay\": 0.1\n",
    "}"
   ]
  },
  {
   "cell_type": "code",
   "execution_count": 160,
   "metadata": {},
   "outputs": [],
   "source": [
    "transform = v2.Compose([\n",
    "    v2.ToImage(), \n",
    "    v2.RandomResizedCrop(size=(384, 384), antialias=True),\n",
    "    v2.RandomHorizontalFlip(p=0.5),\n",
    "    v2.ToDtype(torch.float32, scale=True),\n",
    "])\n",
    "\n",
    "transform_no_augmentation = v2.Compose([\n",
    "    v2.ToImage(), \n",
    "    v2.ToDtype(torch.float32, scale=True),\n",
    "])\n",
    "\n",
    "train_dataset = GroceryStoreDataset(\"train\", transform=transform)\n",
    "val_dataset = GroceryStoreDataset(\"val\", transform=transform_no_augmentation)\n",
    "test_dataset = GroceryStoreDataset(\"test\", transform=transform_no_augmentation)"
   ]
  },
  {
   "cell_type": "code",
   "execution_count": 161,
   "metadata": {},
   "outputs": [],
   "source": [
    "train_loader = DataLoader(train_dataset, batch_size=config[\"batch_size\"], shuffle=True)\n",
    "val_loader = DataLoader(val_dataset, batch_size=config[\"batch_size\"], shuffle=False)"
   ]
  },
  {
   "cell_type": "code",
   "execution_count": 162,
   "metadata": {},
   "outputs": [
    {
     "data": {
      "image/png": "[encoded data removed]",
      "text/plain": [
       "<Figure size 1000x600 with 1 Axes>"
      ]
     },
     "metadata": {},
     "output_type": "display_data"
    },
    {
     "data": {
      "image/png": "[encoded data removed]",
      "text/plain": [
       "<Figure size 1000x600 with 1 Axes>"
      ]
     },
     "metadata": {},
     "output_type": "display_data"
    }
   ],
   "source": [
    "def plot_class_distribution(dataset, title=\"Class Distribution\"):\n",
    "    class_count = {}\n",
    "    for _, label in dataset:\n",
    "        class_count[label] = class_count.get(label, 0) + 1\n",
    "    \n",
    "    labels = list(class_count.keys())\n",
    "    counts = list(class_count.values())\n",
    "\n",
    "    plt.figure(figsize=(10, 6))\n",
    "    plt.bar(labels, counts)\n",
    "    \n",
    "    plt.xlabel('Class')\n",
    "    plt.ylabel('Count')\n",
    "    plt.title(title)\n",
    "    plt.tight_layout()\n",
    "    plt.show()\n",
    "\n",
    "plot_class_distribution(train_dataset, title=\"Training Dataset Class Distribution\")\n",
    "plot_class_distribution(test_dataset, title=\"Validation Dataset Class Distribution\")"
   ]
  },
  {
   "cell_type": "code",
   "execution_count": 163,
   "metadata": {},
   "outputs": [
    {
     "data": {
      "text/plain": [
       "device(type='mps')"
      ]
     },
     "execution_count": 163,
     "metadata": {},
     "output_type": "execute_result"
    }
   ],
   "source": [
    "device = torch.device('mps' if torch.backends.mps.is_available() else 'cpu')\n",
    "device"
   ]
  },
  {
   "cell_type": "code",
   "execution_count": 164,
   "metadata": {},
   "outputs": [
    {
     "data": {
      "text/plain": [
       "{torch.Size([3, 348, 348]),\n",
       " torch.Size([3, 348, 464]),\n",
       " torch.Size([3, 464, 348])}"
      ]
     },
     "execution_count": 164,
     "metadata": {},
     "output_type": "execute_result"
    }
   ],
   "source": [
    "set(img.shape for img, _ in test_dataset)"
   ]
  },
  {
   "cell_type": "code",
   "execution_count": 165,
   "metadata": {},
   "outputs": [
    {
     "data": {
      "text/plain": [
       "2640"
      ]
     },
     "execution_count": 165,
     "metadata": {},
     "output_type": "execute_result"
    }
   ],
   "source": [
    "len(train_dataset)"
   ]
  },
  {
   "cell_type": "code",
   "execution_count": 172,
   "metadata": {},
   "outputs": [],
   "source": [
    "class ConvBnRelu(nn.Module):\n",
    "    def __init__(\n",
    "        self,\n",
    "        in_features: int,\n",
    "        out_features: int,\n",
    "        kernel_size: int,\n",
    "        use_bn: bool = True,\n",
    "        act: nn.Module = nn.ReLU(inplace=True),\n",
    "        **kwargs\n",
    "    ):\n",
    "        super().__init__()\n",
    "        self.conv = nn.Conv2d(\n",
    "            in_features,\n",
    "            out_features,\n",
    "            kernel_size=kernel_size,\n",
    "            padding=kernel_size // 2,\n",
    "            **kwargs\n",
    "        )\n",
    "        self.norm = nn.BatchNorm2d(out_features) if use_bn else nn.Identity()\n",
    "        self.act = act if act is not None else nn.Identity()\n",
    "\n",
    "    def forward(self, x):\n",
    "        return self.act(self.norm(self.conv(x)))\n",
    "\n",
    "Conv1X1BnRelu = partial(ConvBnRelu, kernel_size=1)\n",
    "Conv3X3BnRelu = partial(ConvBnRelu, kernel_size=3)\n",
    "\n",
    "class ResBlock(nn.Module):\n",
    "    def __init__(\n",
    "        self, \n",
    "        in_features, \n",
    "        out_features,\n",
    "        stride = 1,\n",
    "    ):\n",
    "        super().__init__()\n",
    "        reduced_features = out_features // 4\n",
    "        \n",
    "        self.block = nn.Sequential(\n",
    "            Conv1X1BnRelu(in_features, reduced_features),\n",
    "            Conv3X3BnRelu(reduced_features, reduced_features, stride=stride),\n",
    "            Conv1X1BnRelu(reduced_features, out_features, act=None)\n",
    "        )\n",
    "        self.relu = nn.ReLU(inplace=True)\n",
    "        self.skip = nn.Identity()\n",
    "        if stride != 1 or in_features != out_features:\n",
    "            self.skip = nn.Sequential(\n",
    "                nn.Conv2d(in_features, out_features, 1, stride),\n",
    "                nn.BatchNorm2d(out_features)\n",
    "            )\n",
    "\n",
    "    def forward(self, x):\n",
    "        identity = self.skip(x)\n",
    "        out = self.block(x) + identity\n",
    "        return self.relu(out)"
   ]
  },
  {
   "cell_type": "code",
   "execution_count": 173,
   "metadata": {},
   "outputs": [
    {
     "data": {
      "text/plain": [
       "ResNet(\n",
       "  (stem): Sequential(\n",
       "    (0): Conv2d(3, 64, kernel_size=(7, 7), stride=(2, 2), padding=(3, 3))\n",
       "    (1): BatchNorm2d(64, eps=1e-05, momentum=0.1, affine=True, track_running_stats=True)\n",
       "    (2): ReLU(inplace=True)\n",
       "    (3): MaxPool2d(kernel_size=3, stride=2, padding=1, dilation=1, ceil_mode=False)\n",
       "  )\n",
       "  (layer1): Sequential(\n",
       "    (0): ResBlock(\n",
       "      (block): Sequential(\n",
       "        (0): ConvBnRelu(\n",
       "          (conv): Conv2d(64, 32, kernel_size=(1, 1), stride=(1, 1))\n",
       "          (norm): BatchNorm2d(32, eps=1e-05, momentum=0.1, affine=True, track_running_stats=True)\n",
       "          (act): ReLU(inplace=True)\n",
       "        )\n",
       "        (1): ConvBnRelu(\n",
       "          (conv): Conv2d(32, 32, kernel_size=(3, 3), stride=(1, 1), padding=(1, 1))\n",
       "          (norm): BatchNorm2d(32, eps=1e-05, momentum=0.1, affine=True, track_running_stats=True)\n",
       "          (act): ReLU(inplace=True)\n",
       "        )\n",
       "        (2): ConvBnRelu(\n",
       "          (conv): Conv2d(32, 128, kernel_size=(1, 1), stride=(1, 1))\n",
       "          (norm): BatchNorm2d(128, eps=1e-05, momentum=0.1, affine=True, track_running_stats=True)\n",
       "          (act): Identity()\n",
       "        )\n",
       "      )\n",
       "      (relu): ReLU(inplace=True)\n",
       "      (skip): Sequential(\n",
       "        (0): Conv2d(64, 128, kernel_size=(1, 1), stride=(1, 1))\n",
       "        (1): BatchNorm2d(128, eps=1e-05, momentum=0.1, affine=True, track_running_stats=True)\n",
       "      )\n",
       "    )\n",
       "    (1): ResBlock(\n",
       "      (block): Sequential(\n",
       "        (0): ConvBnRelu(\n",
       "          (conv): Conv2d(128, 32, kernel_size=(1, 1), stride=(1, 1))\n",
       "          (norm): BatchNorm2d(32, eps=1e-05, momentum=0.1, affine=True, track_running_stats=True)\n",
       "          (act): ReLU(inplace=True)\n",
       "        )\n",
       "        (1): ConvBnRelu(\n",
       "          (conv): Conv2d(32, 32, kernel_size=(3, 3), stride=(1, 1), padding=(1, 1))\n",
       "          (norm): BatchNorm2d(32, eps=1e-05, momentum=0.1, affine=True, track_running_stats=True)\n",
       "          (act): ReLU(inplace=True)\n",
       "        )\n",
       "        (2): ConvBnRelu(\n",
       "          (conv): Conv2d(32, 128, kernel_size=(1, 1), stride=(1, 1))\n",
       "          (norm): BatchNorm2d(128, eps=1e-05, momentum=0.1, affine=True, track_running_stats=True)\n",
       "          (act): Identity()\n",
       "        )\n",
       "      )\n",
       "      (relu): ReLU(inplace=True)\n",
       "      (skip): Identity()\n",
       "    )\n",
       "  )\n",
       "  (layer2): Sequential(\n",
       "    (0): ResBlock(\n",
       "      (block): Sequential(\n",
       "        (0): ConvBnRelu(\n",
       "          (conv): Conv2d(128, 64, kernel_size=(1, 1), stride=(1, 1))\n",
       "          (norm): BatchNorm2d(64, eps=1e-05, momentum=0.1, affine=True, track_running_stats=True)\n",
       "          (act): ReLU(inplace=True)\n",
       "        )\n",
       "        (1): ConvBnRelu(\n",
       "          (conv): Conv2d(64, 64, kernel_size=(3, 3), stride=(2, 2), padding=(1, 1))\n",
       "          (norm): BatchNorm2d(64, eps=1e-05, momentum=0.1, affine=True, track_running_stats=True)\n",
       "          (act): ReLU(inplace=True)\n",
       "        )\n",
       "        (2): ConvBnRelu(\n",
       "          (conv): Conv2d(64, 256, kernel_size=(1, 1), stride=(1, 1))\n",
       "          (norm): BatchNorm2d(256, eps=1e-05, momentum=0.1, affine=True, track_running_stats=True)\n",
       "          (act): Identity()\n",
       "        )\n",
       "      )\n",
       "      (relu): ReLU(inplace=True)\n",
       "      (skip): Sequential(\n",
       "        (0): Conv2d(128, 256, kernel_size=(1, 1), stride=(2, 2))\n",
       "        (1): BatchNorm2d(256, eps=1e-05, momentum=0.1, affine=True, track_running_stats=True)\n",
       "      )\n",
       "    )\n",
       "    (1): ResBlock(\n",
       "      (block): Sequential(\n",
       "        (0): ConvBnRelu(\n",
       "          (conv): Conv2d(256, 64, kernel_size=(1, 1), stride=(1, 1))\n",
       "          (norm): BatchNorm2d(64, eps=1e-05, momentum=0.1, affine=True, track_running_stats=True)\n",
       "          (act): ReLU(inplace=True)\n",
       "        )\n",
       "        (1): ConvBnRelu(\n",
       "          (conv): Conv2d(64, 64, kernel_size=(3, 3), stride=(1, 1), padding=(1, 1))\n",
       "          (norm): BatchNorm2d(64, eps=1e-05, momentum=0.1, affine=True, track_running_stats=True)\n",
       "          (act): ReLU(inplace=True)\n",
       "        )\n",
       "        (2): ConvBnRelu(\n",
       "          (conv): Conv2d(64, 256, kernel_size=(1, 1), stride=(1, 1))\n",
       "          (norm): BatchNorm2d(256, eps=1e-05, momentum=0.1, affine=True, track_running_stats=True)\n",
       "          (act): Identity()\n",
       "        )\n",
       "      )\n",
       "      (relu): ReLU(inplace=True)\n",
       "      (skip): Identity()\n",
       "    )\n",
       "  )\n",
       "  (layer3): Sequential(\n",
       "    (0): ResBlock(\n",
       "      (block): Sequential(\n",
       "        (0): ConvBnRelu(\n",
       "          (conv): Conv2d(256, 128, kernel_size=(1, 1), stride=(1, 1))\n",
       "          (norm): BatchNorm2d(128, eps=1e-05, momentum=0.1, affine=True, track_running_stats=True)\n",
       "          (act): ReLU(inplace=True)\n",
       "        )\n",
       "        (1): ConvBnRelu(\n",
       "          (conv): Conv2d(128, 128, kernel_size=(3, 3), stride=(2, 2), padding=(1, 1))\n",
       "          (norm): BatchNorm2d(128, eps=1e-05, momentum=0.1, affine=True, track_running_stats=True)\n",
       "          (act): ReLU(inplace=True)\n",
       "        )\n",
       "        (2): ConvBnRelu(\n",
       "          (conv): Conv2d(128, 512, kernel_size=(1, 1), stride=(1, 1))\n",
       "          (norm): BatchNorm2d(512, eps=1e-05, momentum=0.1, affine=True, track_running_stats=True)\n",
       "          (act): Identity()\n",
       "        )\n",
       "      )\n",
       "      (relu): ReLU(inplace=True)\n",
       "      (skip): Sequential(\n",
       "        (0): Conv2d(256, 512, kernel_size=(1, 1), stride=(2, 2))\n",
       "        (1): BatchNorm2d(512, eps=1e-05, momentum=0.1, affine=True, track_running_stats=True)\n",
       "      )\n",
       "    )\n",
       "    (1): ResBlock(\n",
       "      (block): Sequential(\n",
       "        (0): ConvBnRelu(\n",
       "          (conv): Conv2d(512, 128, kernel_size=(1, 1), stride=(1, 1))\n",
       "          (norm): BatchNorm2d(128, eps=1e-05, momentum=0.1, affine=True, track_running_stats=True)\n",
       "          (act): ReLU(inplace=True)\n",
       "        )\n",
       "        (1): ConvBnRelu(\n",
       "          (conv): Conv2d(128, 128, kernel_size=(3, 3), stride=(1, 1), padding=(1, 1))\n",
       "          (norm): BatchNorm2d(128, eps=1e-05, momentum=0.1, affine=True, track_running_stats=True)\n",
       "          (act): ReLU(inplace=True)\n",
       "        )\n",
       "        (2): ConvBnRelu(\n",
       "          (conv): Conv2d(128, 512, kernel_size=(1, 1), stride=(1, 1))\n",
       "          (norm): BatchNorm2d(512, eps=1e-05, momentum=0.1, affine=True, track_running_stats=True)\n",
       "          (act): Identity()\n",
       "        )\n",
       "      )\n",
       "      (relu): ReLU(inplace=True)\n",
       "      (skip): Identity()\n",
       "    )\n",
       "  )\n",
       "  (layer4): Sequential(\n",
       "    (0): ResBlock(\n",
       "      (block): Sequential(\n",
       "        (0): ConvBnRelu(\n",
       "          (conv): Conv2d(512, 256, kernel_size=(1, 1), stride=(1, 1))\n",
       "          (norm): BatchNorm2d(256, eps=1e-05, momentum=0.1, affine=True, track_running_stats=True)\n",
       "          (act): ReLU(inplace=True)\n",
       "        )\n",
       "        (1): ConvBnRelu(\n",
       "          (conv): Conv2d(256, 256, kernel_size=(3, 3), stride=(2, 2), padding=(1, 1))\n",
       "          (norm): BatchNorm2d(256, eps=1e-05, momentum=0.1, affine=True, track_running_stats=True)\n",
       "          (act): ReLU(inplace=True)\n",
       "        )\n",
       "        (2): ConvBnRelu(\n",
       "          (conv): Conv2d(256, 1024, kernel_size=(1, 1), stride=(1, 1))\n",
       "          (norm): BatchNorm2d(1024, eps=1e-05, momentum=0.1, affine=True, track_running_stats=True)\n",
       "          (act): Identity()\n",
       "        )\n",
       "      )\n",
       "      (relu): ReLU(inplace=True)\n",
       "      (skip): Sequential(\n",
       "        (0): Conv2d(512, 1024, kernel_size=(1, 1), stride=(2, 2))\n",
       "        (1): BatchNorm2d(1024, eps=1e-05, momentum=0.1, affine=True, track_running_stats=True)\n",
       "      )\n",
       "    )\n",
       "    (1): ResBlock(\n",
       "      (block): Sequential(\n",
       "        (0): ConvBnRelu(\n",
       "          (conv): Conv2d(1024, 256, kernel_size=(1, 1), stride=(1, 1))\n",
       "          (norm): BatchNorm2d(256, eps=1e-05, momentum=0.1, affine=True, track_running_stats=True)\n",
       "          (act): ReLU(inplace=True)\n",
       "        )\n",
       "        (1): ConvBnRelu(\n",
       "          (conv): Conv2d(256, 256, kernel_size=(3, 3), stride=(1, 1), padding=(1, 1))\n",
       "          (norm): BatchNorm2d(256, eps=1e-05, momentum=0.1, affine=True, track_running_stats=True)\n",
       "          (act): ReLU(inplace=True)\n",
       "        )\n",
       "        (2): ConvBnRelu(\n",
       "          (conv): Conv2d(256, 1024, kernel_size=(1, 1), stride=(1, 1))\n",
       "          (norm): BatchNorm2d(1024, eps=1e-05, momentum=0.1, affine=True, track_running_stats=True)\n",
       "          (act): Identity()\n",
       "        )\n",
       "      )\n",
       "      (relu): ReLU(inplace=True)\n",
       "      (skip): Identity()\n",
       "    )\n",
       "  )\n",
       "  (classifier): Conv2d(1024, 43, kernel_size=(1, 1), stride=(1, 1))\n",
       "  (avgpool): AdaptiveAvgPool2d(output_size=(1, 1))\n",
       "  (fc): Linear(in_features=1024, out_features=43, bias=True)\n",
       ")"
      ]
     },
     "execution_count": 173,
     "metadata": {},
     "output_type": "execute_result"
    }
   ],
   "source": [
    "class ResNet(nn.Module):\n",
    "    def __init__(self, num_blocks, num_classes=10):\n",
    "        super().__init__()\n",
    "        self.stem = nn.Sequential(\n",
    "            nn.Conv2d(in_channels=3, out_channels=64, kernel_size=7, stride=2, padding=3),\n",
    "            nn.BatchNorm2d(64),\n",
    "            nn.ReLU(inplace=True),\n",
    "            nn.MaxPool2d(kernel_size=3, stride=2, padding=1)\n",
    "        )\n",
    "        \n",
    "        self.layer1 = self.make_layer(64, 128, 1, num_blocks[0])\n",
    "        self.layer2 = self.make_layer(128, 256, 2, num_blocks[1])\n",
    "        self.layer3 = self.make_layer(256, 512, 2, num_blocks[2])\n",
    "        self.layer4 = self.make_layer(512, 1024, 2, num_blocks[3])\n",
    "        self.classifier = nn.Conv2d(1024, num_classes, kernel_size=1)\n",
    "        self.avgpool = nn.AdaptiveAvgPool2d((1, 1))\n",
    "        self.fc = nn.Linear(1024, num_classes)\n",
    "        \n",
    "    def make_layer(self, in_features, out_features, stride, num_blocks):\n",
    "        layers = []\n",
    "        layers.append(ResBlock(in_features, out_features, stride))\n",
    "        for _ in range(1, num_blocks):\n",
    "            layers.append(ResBlock(out_features, out_features))\n",
    "        return nn.Sequential(*layers)\n",
    "    \n",
    "    def forward(self, x):\n",
    "        out = self.stem(x)\n",
    "        out = self.layer1(out)\n",
    "        out = self.layer2(out)\n",
    "        out = self.layer3(out)\n",
    "        out = self.layer4(out)\n",
    "        # out = self.classifier(out)  # Shape: [batch_size, num_classes, h, w]\n",
    "        # out = F.adaptive_avg_pool2d(out, (1, 1))  # Shape: [batch_size, num_classes, 1, 1]\n",
    "        # out = out.view(out.size(0), -1)  # Flatten to [batch_size, num_classes]\n",
    "        out = self.avgpool(out)\n",
    "        out = torch.flatten(out, 1)\n",
    "        out = self.fc(out)\n",
    "        return out\n",
    "    \n",
    "model = ResNet([2, 2, 2, 2], num_classes=train_dataset.get_num_classes())\n",
    "model.to(device)"
   ]
  },
  {
   "cell_type": "code",
   "execution_count": 178,
   "metadata": {},
   "outputs": [],
   "source": [
    "def plot_confusion_matrix(cm, class_names):\n",
    "  num_classes = len(class_names)\n",
    "  fig, ax = plt.subplots(figsize=(max(8, num_classes * 0.7), max(6, num_classes * 0.7)))\n",
    "  im = ax.imshow(cm, interpolation='nearest', cmap=plt.cm.Blues)\n",
    "  ax.set_title(\"Confusion matrix\", fontsize=20)\n",
    "  tick_marks = np.arange(num_classes)\n",
    "  ax.set_xticks(tick_marks)\n",
    "  ax.set_yticks(tick_marks)\n",
    "  plt.xticks(fontsize=18, rotation=90)\n",
    "  plt.yticks(fontsize=18)\n",
    "\n",
    "\n",
    "  cm_normalized = cm.astype('float') / cm.sum(axis=1)[:, np.newaxis]\n",
    "  cm_normalized = np.nan_to_num(cm_normalized)\n",
    "  \n",
    "  thresh = cm.max() / 2.\n",
    "  for i, j in np.ndindex(cm.shape):\n",
    "      ax.text(j, i, f\"{cm[i, j]}\\n({cm_normalized[i, j]:.2f})\",\n",
    "              horizontalalignment=\"center\",\n",
    "              verticalalignment=\"center\",\n",
    "              fontsize=max(6, 10 - 0.3 * num_classes),  # Adjust font size based on number of classes\n",
    "              color=\"white\" if cm[i, j] > thresh else \"black\")\n",
    "  \n",
    "  plt.tight_layout()\n",
    "  ax.set_ylabel('True label')\n",
    "  ax.set_xlabel('Predicted label')\n",
    "\n",
    "  buf = io.BytesIO()\n",
    "  plt.savefig(buf, format='png', dpi=300, bbox_inches='tight')\n",
    "  plt.close(fig)\n",
    "  buf.seek(0)\n",
    "\n",
    "  image = Image.open(buf)\n",
    "  return image "
   ]
  },
  {
   "cell_type": "code",
   "execution_count": 179,
   "metadata": {},
   "outputs": [],
   "source": [
    "def train_model(config, model, train_loader, val_loader, loss_fn, optimizer, class_names=None):\n",
    "    writer = SummaryWriter(log_dir=config.get('tensorboard_log_dir', './logs'))\n",
    "\n",
    "    best_val_acc = 0.0\n",
    "\n",
    "    train_losses = []\n",
    "    train_accuracies = []\n",
    "    val_losses = []\n",
    "    val_accuracies = []\n",
    "    \n",
    "    for epoch in range(config['num_epochs']):\n",
    "        model.train()\n",
    "        running_loss = 0.0\n",
    "        correct = 0\n",
    "        total = 0\n",
    "\n",
    "        with tqdm.tqdm(train_loader, total=len(train_loader)) as pbar:\n",
    "            for batch_idx, (inputs, labels) in enumerate(pbar):\n",
    "                inputs, labels = inputs.to(device), labels.to(device)\n",
    "\n",
    "                optimizer.zero_grad()\n",
    "\n",
    "                # Forward\n",
    "                outputs = model(inputs)\n",
    "                loss = loss_fn(outputs, labels)\n",
    "\n",
    "                # Backward\n",
    "                loss.backward()\n",
    "                optimizer.step()\n",
    "\n",
    "                running_loss += loss.item()\n",
    "                _, pred = outputs.max(1)\n",
    "                total += labels.size(0)\n",
    "                correct += pred.eq(labels).sum().item()\n",
    "\n",
    "                train_loss = running_loss / (batch_idx + 1)\n",
    "                train_acc = correct / total\n",
    "\n",
    "                global_step = epoch * len(train_loader) + batch_idx\n",
    "                writer.add_scalar('Loss/Train_Step', loss.item(), global_step)\n",
    "                writer.add_scalar('Accuracy/Train_Step', pred.eq(labels).sum().item() / labels.size(0), global_step)\n",
    "    \n",
    "                pbar.set_postfix({\n",
    "                        'Epoch': f\"{epoch+1}/{config['num_epochs']}\",\n",
    "                        'train_loss': f\"{train_loss:.4f}\",\n",
    "                        'train_acc': f\"{train_acc:.4f}\"\n",
    "                })\n",
    "\n",
    "            train_losses.append(train_loss)\n",
    "            train_accuracies.append(train_acc)\n",
    "            \n",
    "            val_loss, val_acc, all_preds, all_labels = eval_model(model, val_loader, loss_fn)\n",
    "            val_losses.append(val_loss)\n",
    "            val_accuracies.append(val_acc)\n",
    "            \n",
    "            print(f\"Epoch [{epoch+1}/{config['num_epochs']}], \"\n",
    "                  f\"Train Loss: {train_loss:.4f}, Train Acc: {train_acc:.4f}, \"\n",
    "                  f\"Val Loss: {val_loss:.4f}, Val Acc: {val_acc:.4f}\")\n",
    "            \n",
    "            writer.add_scalar('Loss/Train_Epoch', train_loss, epoch)\n",
    "            writer.add_scalar('Accuracy/Train_Epoch', train_acc, epoch)\n",
    "            writer.add_scalar('Loss/Validation_Epoch', val_loss, epoch)\n",
    "            writer.add_scalar('Accuracy/Validation_Epoch', val_acc, epoch)\n",
    "\n",
    "            if class_names is not None:\n",
    "                cm = confusion_matrix(all_labels, all_preds)\n",
    "                img = plot_confusion_matrix(cm, class_names)\n",
    "                transform = v2.Compose([v2.ToImage(), v2.ToDtype(torch.float32, scale=True)])\n",
    "                img_tensor = transform(img)\n",
    "                writer.add_image('Confusion Matrix', img_tensor, epoch, dataformats='CHW')\n",
    "\n",
    "            # if val_acc > best_val_acc:\n",
    "            #     best_val_acc = val_acc\n",
    "            #     epochs_no_improve = 0\n",
    "            #     torch.save(model.state_dict(), f'../models/best_model.pch')\n",
    "            #     print(\"Model saved!\")\n",
    "            # else:\n",
    "            #     epochs_no_improve += 1\n",
    "\n",
    "            # if epochs_no_improve >= config['patience']:\n",
    "            #     print(\"Early stopping!\")\n",
    "            #     break\n",
    "            \n",
    "    writer.close()\n",
    "    return train_losses, train_accuracies, val_losses, val_accuracies\n",
    "            \n",
    "def eval_model(model, dataloader, loss_fn):\n",
    "    model.eval()\n",
    "    running_loss = 0.0\n",
    "    correct = 0\n",
    "    total = 0\n",
    "    all_preds = []\n",
    "    all_labels = []\n",
    "\n",
    "    with torch.no_grad():\n",
    "        for inputs, labels in dataloader:\n",
    "            inputs, labels = inputs.to(device), labels.to(device)\n",
    "            outputs = model(inputs)\n",
    "            loss = loss_fn(outputs, labels)\n",
    "\n",
    "            running_loss += loss.item()\n",
    "            _, pred = outputs.max(1)\n",
    "            total += labels.size(0)\n",
    "            correct += pred.eq(labels).sum().item()\n",
    "\n",
    "            all_preds.extend(pred.cpu().numpy())\n",
    "            all_labels.extend(labels.cpu().numpy())\n",
    "\n",
    "    val_loss = running_loss / len(dataloader)\n",
    "    val_acc = correct / total \n",
    "\n",
    "    return val_loss, val_acc, all_preds, all_labels"
   ]
  },
  {
   "cell_type": "code",
   "execution_count": 180,
   "metadata": {},
   "outputs": [],
   "source": [
    "loss = nn.CrossEntropyLoss(label_smoothing=config[\"ls\"])\n",
    "optimizer = torch.optim.AdamW(model.parameters(), lr=config[\"lr\"], weight_decay=config[\"weight_decay\"])"
   ]
  },
  {
   "cell_type": "code",
   "execution_count": 181,
   "metadata": {},
   "outputs": [
    {
     "name": "stderr",
     "output_type": "stream",
     "text": [
      "100%|██████████| 83/83 [00:44<00:00,  1.88it/s, Epoch=1/20, train_loss=1.9212, train_acc=0.4348]\n"
     ]
    },
    {
     "name": "stdout",
     "output_type": "stream",
     "text": [
      "Epoch [1/20], Train Loss: 1.9212, Train Acc: 0.4348, Val Loss: 3.5058, Val Acc: 0.3243\n"
     ]
    },
    {
     "name": "stderr",
     "output_type": "stream",
     "text": [
      "/var/folders/0p/_krd7pz16cx09cvjhgjzrjl00000gn/T/ipykernel_47159/18754019.py:13: RuntimeWarning: invalid value encountered in divide\n",
      "  cm_normalized = cm.astype('float') / cm.sum(axis=1)[:, np.newaxis]\n",
      "100%|██████████| 83/83 [00:45<00:00,  1.83it/s, Epoch=2/20, train_loss=1.6474, train_acc=0.4890]\n"
     ]
    },
    {
     "name": "stdout",
     "output_type": "stream",
     "text": [
      "Epoch [2/20], Train Loss: 1.6474, Train Acc: 0.4890, Val Loss: 2.4861, Val Acc: 0.3209\n"
     ]
    },
    {
     "name": "stderr",
     "output_type": "stream",
     "text": [
      "/var/folders/0p/_krd7pz16cx09cvjhgjzrjl00000gn/T/ipykernel_47159/18754019.py:13: RuntimeWarning: invalid value encountered in divide\n",
      "  cm_normalized = cm.astype('float') / cm.sum(axis=1)[:, np.newaxis]\n",
      "100%|██████████| 83/83 [00:46<00:00,  1.77it/s, Epoch=3/20, train_loss=1.5647, train_acc=0.5261]\n"
     ]
    },
    {
     "name": "stdout",
     "output_type": "stream",
     "text": [
      "Epoch [3/20], Train Loss: 1.5647, Train Acc: 0.5261, Val Loss: 2.4223, Val Acc: 0.3311\n"
     ]
    },
    {
     "name": "stderr",
     "output_type": "stream",
     "text": [
      "/var/folders/0p/_krd7pz16cx09cvjhgjzrjl00000gn/T/ipykernel_47159/18754019.py:13: RuntimeWarning: invalid value encountered in divide\n",
      "  cm_normalized = cm.astype('float') / cm.sum(axis=1)[:, np.newaxis]\n",
      "100%|██████████| 83/83 [00:45<00:00,  1.82it/s, Epoch=4/20, train_loss=1.5023, train_acc=0.5458]\n"
     ]
    },
    {
     "name": "stdout",
     "output_type": "stream",
     "text": [
      "Epoch [4/20], Train Loss: 1.5023, Train Acc: 0.5458, Val Loss: 1.7433, Val Acc: 0.4899\n"
     ]
    },
    {
     "name": "stderr",
     "output_type": "stream",
     "text": [
      "/var/folders/0p/_krd7pz16cx09cvjhgjzrjl00000gn/T/ipykernel_47159/18754019.py:13: RuntimeWarning: invalid value encountered in divide\n",
      "  cm_normalized = cm.astype('float') / cm.sum(axis=1)[:, np.newaxis]\n",
      "100%|██████████| 83/83 [00:45<00:00,  1.83it/s, Epoch=5/20, train_loss=1.3713, train_acc=0.5708]\n"
     ]
    },
    {
     "name": "stdout",
     "output_type": "stream",
     "text": [
      "Epoch [5/20], Train Loss: 1.3713, Train Acc: 0.5708, Val Loss: 2.1554, Val Acc: 0.3682\n"
     ]
    },
    {
     "name": "stderr",
     "output_type": "stream",
     "text": [
      "/var/folders/0p/_krd7pz16cx09cvjhgjzrjl00000gn/T/ipykernel_47159/18754019.py:13: RuntimeWarning: invalid value encountered in divide\n",
      "  cm_normalized = cm.astype('float') / cm.sum(axis=1)[:, np.newaxis]\n",
      "100%|██████████| 83/83 [00:46<00:00,  1.77it/s, Epoch=6/20, train_loss=1.2568, train_acc=0.6345]\n"
     ]
    },
    {
     "name": "stdout",
     "output_type": "stream",
     "text": [
      "Epoch [6/20], Train Loss: 1.2568, Train Acc: 0.6345, Val Loss: 2.7757, Val Acc: 0.3919\n"
     ]
    },
    {
     "name": "stderr",
     "output_type": "stream",
     "text": [
      "/var/folders/0p/_krd7pz16cx09cvjhgjzrjl00000gn/T/ipykernel_47159/18754019.py:13: RuntimeWarning: invalid value encountered in divide\n",
      "  cm_normalized = cm.astype('float') / cm.sum(axis=1)[:, np.newaxis]\n",
      "100%|██████████| 83/83 [00:47<00:00,  1.76it/s, Epoch=7/20, train_loss=1.2813, train_acc=0.6277]\n"
     ]
    },
    {
     "name": "stdout",
     "output_type": "stream",
     "text": [
      "Epoch [7/20], Train Loss: 1.2813, Train Acc: 0.6277, Val Loss: 2.5503, Val Acc: 0.3716\n"
     ]
    },
    {
     "name": "stderr",
     "output_type": "stream",
     "text": [
      "/var/folders/0p/_krd7pz16cx09cvjhgjzrjl00000gn/T/ipykernel_47159/18754019.py:13: RuntimeWarning: invalid value encountered in divide\n",
      "  cm_normalized = cm.astype('float') / cm.sum(axis=1)[:, np.newaxis]\n",
      "100%|██████████| 83/83 [00:47<00:00,  1.76it/s, Epoch=8/20, train_loss=1.2181, train_acc=0.6413]\n"
     ]
    },
    {
     "name": "stdout",
     "output_type": "stream",
     "text": [
      "Epoch [8/20], Train Loss: 1.2181, Train Acc: 0.6413, Val Loss: 2.7446, Val Acc: 0.3953\n"
     ]
    },
    {
     "name": "stderr",
     "output_type": "stream",
     "text": [
      "/var/folders/0p/_krd7pz16cx09cvjhgjzrjl00000gn/T/ipykernel_47159/18754019.py:13: RuntimeWarning: invalid value encountered in divide\n",
      "  cm_normalized = cm.astype('float') / cm.sum(axis=1)[:, np.newaxis]\n",
      "100%|██████████| 83/83 [00:46<00:00,  1.78it/s, Epoch=9/20, train_loss=1.1348, train_acc=0.6640]\n"
     ]
    },
    {
     "name": "stdout",
     "output_type": "stream",
     "text": [
      "Epoch [9/20], Train Loss: 1.1348, Train Acc: 0.6640, Val Loss: 2.0469, Val Acc: 0.4899\n"
     ]
    },
    {
     "name": "stderr",
     "output_type": "stream",
     "text": [
      "/var/folders/0p/_krd7pz16cx09cvjhgjzrjl00000gn/T/ipykernel_47159/18754019.py:13: RuntimeWarning: invalid value encountered in divide\n",
      "  cm_normalized = cm.astype('float') / cm.sum(axis=1)[:, np.newaxis]\n",
      "100%|██████████| 83/83 [00:48<00:00,  1.71it/s, Epoch=10/20, train_loss=1.0637, train_acc=0.6955]\n"
     ]
    },
    {
     "name": "stdout",
     "output_type": "stream",
     "text": [
      "Epoch [10/20], Train Loss: 1.0637, Train Acc: 0.6955, Val Loss: 2.4945, Val Acc: 0.3851\n"
     ]
    },
    {
     "name": "stderr",
     "output_type": "stream",
     "text": [
      "/var/folders/0p/_krd7pz16cx09cvjhgjzrjl00000gn/T/ipykernel_47159/18754019.py:13: RuntimeWarning: invalid value encountered in divide\n",
      "  cm_normalized = cm.astype('float') / cm.sum(axis=1)[:, np.newaxis]\n",
      "100%|██████████| 83/83 [00:45<00:00,  1.82it/s, Epoch=11/20, train_loss=1.0408, train_acc=0.6951]\n"
     ]
    },
    {
     "name": "stdout",
     "output_type": "stream",
     "text": [
      "Epoch [11/20], Train Loss: 1.0408, Train Acc: 0.6951, Val Loss: 2.6993, Val Acc: 0.4189\n"
     ]
    },
    {
     "name": "stderr",
     "output_type": "stream",
     "text": [
      "/var/folders/0p/_krd7pz16cx09cvjhgjzrjl00000gn/T/ipykernel_47159/18754019.py:13: RuntimeWarning: invalid value encountered in divide\n",
      "  cm_normalized = cm.astype('float') / cm.sum(axis=1)[:, np.newaxis]\n",
      "100%|██████████| 83/83 [00:51<00:00,  1.62it/s, Epoch=12/20, train_loss=0.9937, train_acc=0.7170]\n"
     ]
    },
    {
     "name": "stdout",
     "output_type": "stream",
     "text": [
      "Epoch [12/20], Train Loss: 0.9937, Train Acc: 0.7170, Val Loss: 1.8688, Val Acc: 0.4764\n"
     ]
    },
    {
     "name": "stderr",
     "output_type": "stream",
     "text": [
      "/var/folders/0p/_krd7pz16cx09cvjhgjzrjl00000gn/T/ipykernel_47159/18754019.py:13: RuntimeWarning: invalid value encountered in divide\n",
      "  cm_normalized = cm.astype('float') / cm.sum(axis=1)[:, np.newaxis]\n",
      "100%|██████████| 83/83 [00:45<00:00,  1.81it/s, Epoch=13/20, train_loss=0.9276, train_acc=0.7409]\n"
     ]
    },
    {
     "name": "stdout",
     "output_type": "stream",
     "text": [
      "Epoch [13/20], Train Loss: 0.9276, Train Acc: 0.7409, Val Loss: 1.9704, Val Acc: 0.4899\n"
     ]
    },
    {
     "name": "stderr",
     "output_type": "stream",
     "text": [
      "/var/folders/0p/_krd7pz16cx09cvjhgjzrjl00000gn/T/ipykernel_47159/18754019.py:13: RuntimeWarning: invalid value encountered in divide\n",
      "  cm_normalized = cm.astype('float') / cm.sum(axis=1)[:, np.newaxis]\n",
      "100%|██████████| 83/83 [00:53<00:00,  1.56it/s, Epoch=14/20, train_loss=0.8862, train_acc=0.7383]\n"
     ]
    },
    {
     "name": "stdout",
     "output_type": "stream",
     "text": [
      "Epoch [14/20], Train Loss: 0.8862, Train Acc: 0.7383, Val Loss: 1.9741, Val Acc: 0.5034\n"
     ]
    },
    {
     "name": "stderr",
     "output_type": "stream",
     "text": [
      "/var/folders/0p/_krd7pz16cx09cvjhgjzrjl00000gn/T/ipykernel_47159/18754019.py:13: RuntimeWarning: invalid value encountered in divide\n",
      "  cm_normalized = cm.astype('float') / cm.sum(axis=1)[:, np.newaxis]\n",
      "100%|██████████| 83/83 [00:45<00:00,  1.82it/s, Epoch=15/20, train_loss=0.8993, train_acc=0.7462]\n"
     ]
    },
    {
     "name": "stdout",
     "output_type": "stream",
     "text": [
      "Epoch [15/20], Train Loss: 0.8993, Train Acc: 0.7462, Val Loss: 2.0086, Val Acc: 0.4865\n"
     ]
    },
    {
     "name": "stderr",
     "output_type": "stream",
     "text": [
      "/var/folders/0p/_krd7pz16cx09cvjhgjzrjl00000gn/T/ipykernel_47159/18754019.py:13: RuntimeWarning: invalid value encountered in divide\n",
      "  cm_normalized = cm.astype('float') / cm.sum(axis=1)[:, np.newaxis]\n",
      "100%|██████████| 83/83 [00:46<00:00,  1.78it/s, Epoch=16/20, train_loss=0.8554, train_acc=0.7625]\n"
     ]
    },
    {
     "name": "stdout",
     "output_type": "stream",
     "text": [
      "Epoch [16/20], Train Loss: 0.8554, Train Acc: 0.7625, Val Loss: 2.3116, Val Acc: 0.4291\n"
     ]
    },
    {
     "name": "stderr",
     "output_type": "stream",
     "text": [
      "/var/folders/0p/_krd7pz16cx09cvjhgjzrjl00000gn/T/ipykernel_47159/18754019.py:13: RuntimeWarning: invalid value encountered in divide\n",
      "  cm_normalized = cm.astype('float') / cm.sum(axis=1)[:, np.newaxis]\n",
      "100%|██████████| 83/83 [12:46<00:00,  9.23s/it, Epoch=17/20, train_loss=0.8202, train_acc=0.7773]   \n"
     ]
    },
    {
     "name": "stdout",
     "output_type": "stream",
     "text": [
      "Epoch [17/20], Train Loss: 0.8202, Train Acc: 0.7773, Val Loss: 1.6174, Val Acc: 0.5642\n"
     ]
    },
    {
     "name": "stderr",
     "output_type": "stream",
     "text": [
      "/var/folders/0p/_krd7pz16cx09cvjhgjzrjl00000gn/T/ipykernel_47159/18754019.py:13: RuntimeWarning: invalid value encountered in divide\n",
      "  cm_normalized = cm.astype('float') / cm.sum(axis=1)[:, np.newaxis]\n",
      "100%|██████████| 83/83 [22:39<00:00, 16.37s/it, Epoch=18/20, train_loss=0.7952, train_acc=0.7886]   \n"
     ]
    },
    {
     "name": "stdout",
     "output_type": "stream",
     "text": [
      "Epoch [18/20], Train Loss: 0.7952, Train Acc: 0.7886, Val Loss: 1.9546, Val Acc: 0.4966\n"
     ]
    },
    {
     "name": "stderr",
     "output_type": "stream",
     "text": [
      "/var/folders/0p/_krd7pz16cx09cvjhgjzrjl00000gn/T/ipykernel_47159/18754019.py:13: RuntimeWarning: invalid value encountered in divide\n",
      "  cm_normalized = cm.astype('float') / cm.sum(axis=1)[:, np.newaxis]\n",
      "100%|██████████| 83/83 [06:47<00:00,  4.91s/it, Epoch=19/20, train_loss=0.7849, train_acc=0.7795]   \n"
     ]
    },
    {
     "name": "stdout",
     "output_type": "stream",
     "text": [
      "Epoch [19/20], Train Loss: 0.7849, Train Acc: 0.7795, Val Loss: 1.9154, Val Acc: 0.4595\n"
     ]
    },
    {
     "name": "stderr",
     "output_type": "stream",
     "text": [
      "/var/folders/0p/_krd7pz16cx09cvjhgjzrjl00000gn/T/ipykernel_47159/18754019.py:13: RuntimeWarning: invalid value encountered in divide\n",
      "  cm_normalized = cm.astype('float') / cm.sum(axis=1)[:, np.newaxis]\n",
      "100%|██████████| 83/83 [05:54<00:00,  4.28s/it, Epoch=20/20, train_loss=0.7624, train_acc=0.7939]\n"
     ]
    },
    {
     "name": "stdout",
     "output_type": "stream",
     "text": [
      "Epoch [20/20], Train Loss: 0.7624, Train Acc: 0.7939, Val Loss: 3.1423, Val Acc: 0.3818\n"
     ]
    },
    {
     "name": "stderr",
     "output_type": "stream",
     "text": [
      "/var/folders/0p/_krd7pz16cx09cvjhgjzrjl00000gn/T/ipykernel_47159/18754019.py:13: RuntimeWarning: invalid value encountered in divide\n",
      "  cm_normalized = cm.astype('float') / cm.sum(axis=1)[:, np.newaxis]\n"
     ]
    },
    {
     "data": {
      "text/plain": [
       "([1.921210501567427,\n",
       "  1.6473949429500534,\n",
       "  1.5647044598338116,\n",
       "  1.5022728773484748,\n",
       "  1.3712722242596638,\n",
       "  1.2567624155297337,\n",
       "  1.2812651848218528,\n",
       "  1.2181303982275078,\n",
       "  1.134814179805388,\n",
       "  1.0636605268501373,\n",
       "  1.040808411247759,\n",
       "  0.9937186672026852,\n",
       "  0.9275650741106056,\n",
       "  0.8862173729632274,\n",
       "  0.8993457038718534,\n",
       "  0.855432270521141,\n",
       "  0.8202451833759445,\n",
       "  0.7951832359813782,\n",
       "  0.7849447727203369,\n",
       "  0.7623959273458963],\n",
       " [0.4348484848484849,\n",
       "  0.4890151515151515,\n",
       "  0.5261363636363636,\n",
       "  0.5458333333333333,\n",
       "  0.5708333333333333,\n",
       "  0.634469696969697,\n",
       "  0.6276515151515152,\n",
       "  0.6412878787878787,\n",
       "  0.6640151515151516,\n",
       "  0.6954545454545454,\n",
       "  0.6950757575757576,\n",
       "  0.7170454545454545,\n",
       "  0.740909090909091,\n",
       "  0.7382575757575758,\n",
       "  0.7462121212121212,\n",
       "  0.7625,\n",
       "  0.7772727272727272,\n",
       "  0.7886363636363637,\n",
       "  0.7795454545454545,\n",
       "  0.793939393939394],\n",
       " [3.5058236718177795,\n",
       "  2.486116874217987,\n",
       "  2.4222503185272215,\n",
       "  1.743341612815857,\n",
       "  2.155417823791504,\n",
       "  2.775711438059807,\n",
       "  2.5503286719322205,\n",
       "  2.7446311712265015,\n",
       "  2.0469240665435793,\n",
       "  2.494527888298035,\n",
       "  2.699289321899414,\n",
       "  1.8687639951705932,\n",
       "  1.9703734397888184,\n",
       "  1.9741498231887817,\n",
       "  2.00856574177742,\n",
       "  2.3115540385246276,\n",
       "  1.6174069404602052,\n",
       "  1.9545796930789947,\n",
       "  1.915377926826477,\n",
       "  3.1422977685928344],\n",
       " [0.32432432432432434,\n",
       "  0.32094594594594594,\n",
       "  0.3310810810810811,\n",
       "  0.48986486486486486,\n",
       "  0.36824324324324326,\n",
       "  0.3918918918918919,\n",
       "  0.3716216216216216,\n",
       "  0.3952702702702703,\n",
       "  0.48986486486486486,\n",
       "  0.38513513513513514,\n",
       "  0.4189189189189189,\n",
       "  0.47635135135135137,\n",
       "  0.48986486486486486,\n",
       "  0.5033783783783784,\n",
       "  0.4864864864864865,\n",
       "  0.42905405405405406,\n",
       "  0.5641891891891891,\n",
       "  0.4966216216216216,\n",
       "  0.4594594594594595,\n",
       "  0.38175675675675674])"
      ]
     },
     "execution_count": 181,
     "metadata": {},
     "output_type": "execute_result"
    }
   ],
   "source": [
    "train_model(config, model, train_loader, val_loader, loss, optimizer, range(0, train_dataset.get_num_classes()))"
   ]
  },
  {
   "cell_type": "markdown",
   "metadata": {
    "id": "gkWEqSPoUIL3"
   },
   "source": [
    "## Part 2: fine-tune an existing network\n",
    "\n",
    "Your goal is to fine-tune a pretrained **ResNet-18** model on `GroceryStoreDataset`. Use the implementation provided by PyTorch, do not implement it yourselves! (i.e. exactly what you **could not** do in the first part of the assignment). Specifically, you must use the PyTorch ResNet-18 model pretrained on ImageNet-1K (V1). Divide your fine-tuning into two parts:\n",
    "\n",
    "1. First, fine-tune the Resnet-18 with the same training hyperparameters you used for your best model in the first part of the assignment.\n",
    "1. Then, tweak the training hyperparameters in order to increase the accuracy on the validation split of `GroceryStoreDataset`. Justify your choices by analyzing the training plots and/or citing sources that guided you in your decisions (papers, blog posts, YouTube videos, or whatever else you find enlightening). You should consider yourselves satisfied once you obtain a classification accuracy on the **validation** split **between 80 and 90%**."
   ]
  },
  {
   "cell_type": "markdown",
   "metadata": {},
   "source": []
  }
 ],
 "metadata": {
  "colab": {
   "gpuType": "T4",
   "provenance": [],
   "toc_visible": true
  },
  "kernelspec": {
   "display_name": "cv",
   "language": "python",
   "name": "python3"
  },
  "language_info": {
   "codemirror_mode": {
    "name": "ipython",
    "version": 3
   },
   "file_extension": ".py",
   "mimetype": "text/x-python",
   "name": "python",
   "nbconvert_exporter": "python",
   "pygments_lexer": "ipython3",
   "version": "3.12.3"
  }
 },
 "nbformat": 4,
 "nbformat_minor": 4
}
