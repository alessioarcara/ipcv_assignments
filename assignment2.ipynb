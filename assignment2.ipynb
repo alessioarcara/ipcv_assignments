{
  "cells": [
    {
      "cell_type": "markdown",
      "metadata": {
        "id": "MNBgGYg_lpVN"
      },
      "source": [
        "# Assignment Module 2: Product Classification\n",
        "\n",
        "The goal of this assignment is to implement a neural network that classifies smartphone pictures of products found in grocery stores. The assignment will be divided into two parts: first, you will be asked to implement from scratch your own neural network for image classification; then, you will fine-tune a pretrained network provided by PyTorch.\n"
      ]
    },
    {
      "cell_type": "markdown",
      "metadata": {
        "id": "dVTQUJ4uYH1w"
      },
      "source": [
        "## Preliminaries: the dataset\n",
        "\n",
        "The dataset you will be using contains natural images of products taken with a smartphone camera in different grocery stores:\n",
        "\n",
        "<p align=\"center\">\n",
        "  <img src=\"https://github.com/marcusklasson/GroceryStoreDataset/raw/master/sample_images/natural/Granny-Smith.jpg\" width=\"150\">\n",
        "  <img src=\"https://github.com/marcusklasson/GroceryStoreDataset/raw/master/sample_images/natural/Pink-Lady.jpg\" width=\"150\">\n",
        "  <img src=\"https://github.com/marcusklasson/GroceryStoreDataset/raw/master/sample_images/natural/Lemon.jpg\" width=\"150\">\n",
        "  <img src=\"https://github.com/marcusklasson/GroceryStoreDataset/raw/master/sample_images/natural/Banana.jpg\" width=\"150\">\n",
        "  <img src=\"https://github.com/marcusklasson/GroceryStoreDataset/raw/master/sample_images/natural/Vine-Tomato.jpg\" width=\"150\">\n",
        "</p>\n",
        "<p align=\"center\">\n",
        "  <img src=\"https://github.com/marcusklasson/GroceryStoreDataset/raw/master/sample_images/natural/Yellow-Onion.jpg\" width=\"150\">\n",
        "  <img src=\"https://github.com/marcusklasson/GroceryStoreDataset/raw/master/sample_images/natural/Green-Bell-Pepper.jpg\" width=\"150\">\n",
        "  <img src=\"https://github.com/marcusklasson/GroceryStoreDataset/raw/master/sample_images/natural/Arla-Standard-Milk.jpg\" width=\"150\">\n",
        "  <img src=\"https://github.com/marcusklasson/GroceryStoreDataset/raw/master/sample_images/natural/Oatly-Natural-Oatghurt.jpg\" width=\"150\">\n",
        "  <img src=\"https://github.com/marcusklasson/GroceryStoreDataset/raw/master/sample_images/natural/Alpro-Fresh-Soy-Milk.jpg\" width=\"150\">\n",
        "</p>\n",
        "\n",
        "The products belong to the following 43 classes:\n",
        "```\n",
        "0.  Apple\n",
        "1.  Avocado\n",
        "2.  Banana\n",
        "3.  Kiwi\n",
        "4.  Lemon\n",
        "5.  Lime\n",
        "6.  Mango\n",
        "7.  Melon\n",
        "8.  Nectarine\n",
        "9.  Orange\n",
        "10. Papaya\n",
        "11. Passion-Fruit\n",
        "12. Peach\n",
        "13. Pear\n",
        "14. Pineapple\n",
        "15. Plum\n",
        "16. Pomegranate\n",
        "17. Red-Grapefruit\n",
        "18. Satsumas\n",
        "19. Juice\n",
        "20. Milk\n",
        "21. Oatghurt\n",
        "22. Oat-Milk\n",
        "23. Sour-Cream\n",
        "24. Sour-Milk\n",
        "25. Soyghurt\n",
        "26. Soy-Milk\n",
        "27. Yoghurt\n",
        "28. Asparagus\n",
        "29. Aubergine\n",
        "30. Cabbage\n",
        "31. Carrots\n",
        "32. Cucumber\n",
        "33. Garlic\n",
        "34. Ginger\n",
        "35. Leek\n",
        "36. Mushroom\n",
        "37. Onion\n",
        "38. Pepper\n",
        "39. Potato\n",
        "40. Red-Beet\n",
        "41. Tomato\n",
        "42. Zucchini\n",
        "```\n",
        "\n",
        "The dataset is split into training (`train`), validation (`val`), and test (`test`) set."
      ]
    },
    {
      "cell_type": "markdown",
      "metadata": {
        "id": "1pdrmJRnJPd8"
      },
      "source": [
        "The following code cells download the dataset and define a `torch.utils.data.Dataset` class to access it. This `Dataset` class will be the starting point of your assignment: use it in your own code and build everything else around it."
      ]
    },
    {
      "cell_type": "code",
      "execution_count": 1,
      "metadata": {
        "id": "POMX_3x-_bZI",
        "colab": {
          "base_uri": "https://localhost:8080/"
        },
        "outputId": "ecc2e03e-8615-4c42-ab29-e5c2c141114f"
      },
      "outputs": [
        {
          "output_type": "stream",
          "name": "stdout",
          "text": [
            "Cloning into 'GroceryStoreDataset'...\n",
            "remote: Enumerating objects: 6559, done.\u001b[K\n",
            "remote: Counting objects: 100% (266/266), done.\u001b[K\n",
            "remote: Compressing objects: 100% (231/231), done.\u001b[K\n",
            "remote: Total 6559 (delta 45), reused 35 (delta 35), pack-reused 6293 (from 1)\u001b[K\n",
            "Receiving objects: 100% (6559/6559), 116.26 MiB | 52.70 MiB/s, done.\n",
            "Resolving deltas: 100% (275/275), done.\n"
          ]
        }
      ],
      "source": [
        "!git clone https://github.com/marcusklasson/GroceryStoreDataset.git"
      ]
    },
    {
      "cell_type": "code",
      "execution_count": 2,
      "metadata": {
        "id": "hiF8xGEYlsu8"
      },
      "outputs": [],
      "source": [
        "from pathlib import Path\n",
        "from PIL import Image\n",
        "from torch import Tensor\n",
        "from torch.utils.data import Dataset\n",
        "from typing import List, Tuple"
      ]
    },
    {
      "cell_type": "code",
      "execution_count": 3,
      "metadata": {
        "id": "jROSO2qVDxdD"
      },
      "outputs": [],
      "source": [
        "class GroceryStoreDataset(Dataset):\n",
        "    def __init__(self, split: str, transform=None) -> None:\n",
        "        super().__init__()\n",
        "\n",
        "        self.root = Path(\"GroceryStoreDataset/dataset\")\n",
        "        self.split = split\n",
        "        self.paths, self.labels = self.read_file()\n",
        "\n",
        "        self.transform = transform\n",
        "\n",
        "    def __len__(self) -> int:\n",
        "        return len(self.labels)\n",
        "\n",
        "    def __getitem__(self, idx) -> Tuple[Tensor, int]:\n",
        "        img = Image.open(self.root / self.paths[idx])\n",
        "        label = self.labels[idx]\n",
        "\n",
        "        if self.transform:\n",
        "            img = self.transform(img)\n",
        "\n",
        "        return img, label\n",
        "\n",
        "    def read_file(self) -> Tuple[List[str], List[int]]:\n",
        "        paths = []\n",
        "        labels = []\n",
        "\n",
        "        with open(self.root / f\"{self.split}.txt\") as f:\n",
        "            for line in f:\n",
        "                # path, fine-grained class, coarse-grained class\n",
        "                path, _, label = line.replace(\"\\n\", \"\").split(\", \")\n",
        "                paths.append(path), labels.append(int(label))\n",
        "\n",
        "        return paths, labels\n",
        "\n",
        "    def get_num_classes(self) -> int:\n",
        "        return max(self.labels) + 1"
      ]
    },
    {
      "cell_type": "markdown",
      "metadata": {
        "id": "yBch3dpwNSsW"
      },
      "source": [
        "## Part 1: design your own network\n",
        "\n",
        "Your goal is to implement a convolutional neural network for image classification and train it on `GroceryStoreDataset`. You should consider yourselves satisfied once you obtain a classification accuracy on the **validation** split of **around 60%**. You are free to achieve that however you want, except for a few rules you must follow:\n",
        "\n",
        "- You **cannot** simply instantiate an off-the-self PyTorch network. Instead, you must construct your network as a composition of existing PyTorch layers. In more concrete terms, you can use e.g. `torch.nn.Linear`, but you **cannot** use e.g. `torchvision.models.alexnet`.\n",
        "\n",
        "- Justify every *design choice* you make. Design choices include network architecture, training hyperparameters, and, possibly, dataset preprocessing steps. You can either (i) start from the simplest convolutional network you can think of and add complexity one step at a time, while showing how each step gets you closer to the target ~60%, or (ii) start from a model that is already able to achieve the desired accuracy and show how, by removing some of its components, its performance drops (i.e. an *ablation study*). You can *show* your results/improvements however you want: training plots, console-printed values or tables, or whatever else your heart desires: the clearer, the better.\n",
        "\n",
        "Don't be too concerned with your network performance: the ~60% is just to give you an idea of when to stop. Keep in mind that a thoroughly justified model with lower accuracy will be rewarded **more** points than a poorly experimentally validated model with higher accuracy."
      ]
    },
    {
      "cell_type": "code",
      "execution_count": 4,
      "metadata": {
        "id": "DUwag6tl9Vn7"
      },
      "outputs": [],
      "source": [
        "import warnings\n",
        "warnings.filterwarnings(\"ignore\", category=UserWarning)"
      ]
    },
    {
      "cell_type": "code",
      "execution_count": 9,
      "metadata": {
        "id": "PBeyNLcf9Vn7"
      },
      "outputs": [],
      "source": [
        "# !pip install -q wandb\n",
        "# !pip install -q torchmetrics\n",
        "# !pip install -q torchinfo"
      ]
    },
    {
      "cell_type": "code",
      "execution_count": 10,
      "metadata": {
        "id": "qw7fc7NS9Vn7"
      },
      "outputs": [],
      "source": [
        "import random\n",
        "import copy\n",
        "from copy import deepcopy\n",
        "\n",
        "import pandas as pd\n",
        "import matplotlib.pyplot as plt\n",
        "import seaborn as sn\n",
        "import numpy as np\n",
        "import torch\n",
        "import torch.nn as nn\n",
        "import torch.nn.functional as F\n",
        "\n",
        "from collections import defaultdict\n",
        "#from google.colab import drive\n",
        "from pathlib import Path\n",
        "from PIL import Image\n",
        "from tqdm.notebook import tqdm\n",
        "from typing import Any, Callable, Dict, List, Optional\n",
        "\n",
        "from torch.utils.data import DataLoader\n",
        "from torch.optim import AdamW\n",
        "from torch.optim.lr_scheduler import OneCycleLR\n",
        "from torchmetrics.classification.accuracy import Accuracy\n",
        "from torchvision.transforms import v2 as T\n",
        "from torchinfo import summary"
      ]
    },
    {
      "cell_type": "code",
      "execution_count": 11,
      "metadata": {
        "id": "CJHHzVJ69Vn8"
      },
      "outputs": [],
      "source": [
        "import wandb\n",
        "\n",
        "WANDB_USER = \"alessioarcara\"  # insert your wandb username here\n",
        "WANDB_PROJECT = \"IPCV_ASSIGNMENT\""
      ]
    },
    {
      "cell_type": "code",
      "execution_count": 12,
      "metadata": {
        "id": "w-AHmyPm9Vn8"
      },
      "outputs": [],
      "source": [
        "def fix_random(seed: int) -> None:\n",
        "    \"\"\"Fix all the possible sources of randomness.\n",
        "\n",
        "    Args:\n",
        "        seed: the seed to use.\n",
        "    \"\"\"\n",
        "    np.random.seed(seed)\n",
        "    random.seed(seed)\n",
        "    torch.manual_seed(seed)\n",
        "    torch.cuda.manual_seed(seed)\n",
        "\n",
        "    torch.backends.cudnn.benchmark = False\n",
        "    torch.backends.cudnn.deterministic = True\n",
        "\n",
        "fix_random(seed=42)"
      ]
    },
    {
      "cell_type": "code",
      "execution_count": 13,
      "metadata": {
        "colab": {
          "base_uri": "https://localhost:8080/"
        },
        "id": "lOCytLv69Vn8",
        "outputId": "4eb28aa4-ec6f-4c2a-c719-07fbf32577f0"
      },
      "outputs": [
        {
          "output_type": "stream",
          "name": "stdout",
          "text": [
            "✅ CUDA GPU detected. Running on CUDA device.\n"
          ]
        }
      ],
      "source": [
        "if torch.cuda.is_available():\n",
        "    print(\"✅ CUDA GPU detected. Running on CUDA device.\")\n",
        "    device = torch.device(\"cuda:0\")\n",
        "elif torch.backends.mps.is_available():\n",
        "    print(\"✅ MPS GPU detected. Running on MPS device.\")\n",
        "    device = torch.device(\"mps\")\n",
        "else:\n",
        "    print(\"⚠️ No compatible GPU found. Running on CPU.\")\n",
        "    device = torch.device(\"cpu\")"
      ]
    },
    {
      "cell_type": "code",
      "execution_count": 57,
      "metadata": {
        "id": "dkjkWmzM9Vn8"
      },
      "outputs": [],
      "source": [
        "cfg = {\n",
        "    \"resize_size\": 384,\n",
        "    \"batch_size\": 64,\n",
        "    \"num_epochs\": 100,\n",
        "    \"ls\": 0.1,\n",
        "    \"lr\": 1e-3,\n",
        "    \"wd\": 0.01,\n",
        "}"
      ]
    },
    {
      "cell_type": "code",
      "execution_count": 58,
      "metadata": {
        "id": "Twip4eJ39Vn9"
      },
      "outputs": [],
      "source": [
        "data_transforms = {\n",
        "    \"train\": T.Compose([\n",
        "        T.ToImage(),\n",
        "        T.RandomResizedCrop(cfg[\"resize_size\"]),\n",
        "        T.RandomHorizontalFlip(),\n",
        "        T.ToDtype(torch.float32, scale=True),\n",
        "    ]),\n",
        "\n",
        "    \"val\": T.Compose([\n",
        "        T.ToImage(),\n",
        "        T.Resize(cfg[\"resize_size\"]),\n",
        "        T.ToDtype(torch.float32, scale=True),\n",
        "    ])\n",
        "}"
      ]
    },
    {
      "cell_type": "code",
      "execution_count": 59,
      "metadata": {
        "id": "rq6Kh0Iq9Vn9"
      },
      "outputs": [],
      "source": [
        "train_dataset = GroceryStoreDataset(\"train\", data_transforms[\"train\"])\n",
        "val_dataset = GroceryStoreDataset(\"val\", data_transforms[\"val\"])\n",
        "test_dataset = GroceryStoreDataset(\"test\", data_transforms[\"val\"])"
      ]
    },
    {
      "cell_type": "code",
      "execution_count": 60,
      "metadata": {
        "id": "t3xkh4Z59Vn9"
      },
      "outputs": [],
      "source": [
        "train_loader = DataLoader(\n",
        "    train_dataset,\n",
        "    batch_size=cfg[\"batch_size\"],\n",
        "    shuffle=True,\n",
        "    pin_memory=True\n",
        ")\n",
        "val_loader = DataLoader(\n",
        "    val_dataset,\n",
        "    batch_size=cfg[\"batch_size\"],\n",
        "    shuffle=False\n",
        ")"
      ]
    },
    {
      "cell_type": "code",
      "execution_count": 39,
      "metadata": {
        "colab": {
          "base_uri": "https://localhost:8080/",
          "height": 1000
        },
        "id": "kV8SXYQb9Vn9",
        "outputId": "b7976a81-0610-4236-e947-6b4a3373a967"
      },
      "outputs": [
        {
          "output_type": "display_data",
          "data": {
            "text/plain": [
              "<Figure size 1000x600 with 1 Axes>"
            ],
            "image/png": "[encoded data removed]"
          },
          "metadata": {}
        },
        {
          "output_type": "display_data",
          "data": {
            "text/plain": [
              "<Figure size 1000x600 with 1 Axes>"
            ],
            "image/png": "[encoded data removed]"
          },
          "metadata": {}
        }
      ],
      "source": [
        "def plot_class_distribution(dataset, title=\"Class Distribution\"):\n",
        "    class_count = {}\n",
        "    for _, label in dataset:\n",
        "        class_count[label] = class_count.get(label, 0) + 1\n",
        "\n",
        "    labels = list(class_count.keys())\n",
        "    counts = list(class_count.values())\n",
        "\n",
        "    plt.figure(figsize=(10, 6))\n",
        "    plt.bar(labels, counts)\n",
        "\n",
        "    plt.xlabel('Class')\n",
        "    plt.ylabel('Count')\n",
        "    plt.title(title)\n",
        "    plt.tight_layout()\n",
        "    plt.show()\n",
        "\n",
        "plot_class_distribution(train_dataset, title=\"Training Dataset Class Distribution\")\n",
        "plot_class_distribution(test_dataset, title=\"Validation Dataset Class Distribution\")"
      ]
    },
    {
      "cell_type": "code",
      "execution_count": 103,
      "metadata": {
        "colab": {
          "base_uri": "https://localhost:8080/"
        },
        "id": "IuRuEZSf9Vn9",
        "outputId": "92be461e-1349-4a9f-d89c-2420506dd4f4"
      },
      "outputs": [
        {
          "output_type": "stream",
          "name": "stdout",
          "text": [
            "{torch.Size([3, 512, 384]), torch.Size([3, 384, 512]), torch.Size([3, 384, 384])}\n"
          ]
        }
      ],
      "source": [
        "unique_sizes = set(img.size() for img, _ in test_dataset)\n",
        "print(unique_sizes)"
      ]
    },
    {
      "cell_type": "code",
      "execution_count": 20,
      "metadata": {
        "colab": {
          "base_uri": "https://localhost:8080/"
        },
        "id": "gv8bA9jB9Vn9",
        "outputId": "950a33d8-9dfa-47a3-8df2-76ec918f67c5"
      },
      "outputs": [
        {
          "output_type": "execute_result",
          "data": {
            "text/plain": [
              "2640"
            ]
          },
          "metadata": {},
          "execution_count": 20
        }
      ],
      "source": [
        "len(train_dataset)"
      ]
    },
    {
      "cell_type": "code",
      "execution_count": 99,
      "metadata": {
        "id": "lUflKY579Vn9"
      },
      "outputs": [],
      "source": [
        "def print_summary(net, input_size, verbose=True):\n",
        "    from torchinfo import summary\n",
        "    net_info = summary(net, input_size=input_size)\n",
        "    params = net_info.total_params\n",
        "    macs = net_info.total_mult_adds\n",
        "    if verbose: print(net_info)\n",
        "    print(\"\\nNetwork's n°params: %.3fk \\tMAC: %.3fM\\n\" % (params/1e3, macs/1e6))"
      ]
    },
    {
      "cell_type": "code",
      "execution_count": 100,
      "metadata": {
        "id": "8pX8QnpD9Vn-"
      },
      "outputs": [],
      "source": [
        "class TinyShuffleNet(nn.Module):\n",
        "    def __init__(self, in_channels, groups, num_classes=10):\n",
        "        super(TinyShuffleNet, self).__init__()\n",
        "\n",
        "        self.groups = groups\n",
        "\n",
        "        self.conv1 = nn.Conv2d(3, in_channels, kernel_size=3, stride=2, padding=1, bias=False)\n",
        "        self.bn1 = nn.BatchNorm2d(in_channels)\n",
        "        self.maxpool = nn.MaxPool2d(kernel_size=3, stride=2, padding=1)\n",
        "        self.stage2 = self._make_stage(in_channels, in_channels * 2, num_blocks=2, stride=2)\n",
        "        self.stage3 = self._make_stage(in_channels * 2, in_channels * 4, num_blocks=2, stride=2)\n",
        "        self.stage4 = self._make_stage(in_channels * 4, in_channels * 8, num_blocks=2, stride=2)\n",
        "\n",
        "        self.globalpool = nn.AdaptiveAvgPool2d(1)\n",
        "        self.drop = nn.Dropout(0.5)\n",
        "        self.fc = nn.Linear(in_channels * 8, num_classes)\n",
        "\n",
        "    def _make_stage(self, in_channels, out_channels, num_blocks, stride):\n",
        "        layers = []\n",
        "        for i in range(num_blocks):\n",
        "            stride_layer = stride if i == 0 else 1\n",
        "            layers.append(ShuffleUnit(in_channels, out_channels, stride=stride_layer, groups=self.groups))\n",
        "            in_channels = out_channels\n",
        "        return nn.Sequential(*layers)\n",
        "\n",
        "    def forward(self, x):\n",
        "        x = self.conv1(x)\n",
        "        x = self.bn1(x)\n",
        "        x = F.relu(x)\n",
        "        x = self.maxpool(x)\n",
        "\n",
        "        x = self.stage2(x)\n",
        "        x = self.stage3(x)\n",
        "        x = self.stage4(x)\n",
        "\n",
        "        x = self.globalpool(x)\n",
        "        x = x.view(x.size(0), -1)\n",
        "        x = self.drop(x)\n",
        "        x = self.fc(x)\n",
        "\n",
        "        return x\n",
        "\n",
        "\n",
        "class ShuffleUnit(nn.Module):\n",
        "    def __init__(self, in_channels, out_channels, stride=1, groups=2):\n",
        "        super(ShuffleUnit, self).__init__()\n",
        "        self.stride = stride\n",
        "        self.groups = groups\n",
        "\n",
        "        self.out_channels = out_channels\n",
        "        mid_channels = out_channels // 4\n",
        "\n",
        "        # 1x1 GConv\n",
        "        self.group_conv1 = nn.Conv2d(in_channels, mid_channels, kernel_size=1, groups=groups, bias=False)\n",
        "        self.bn1 = nn.BatchNorm2d(mid_channels)\n",
        "\n",
        "        # 3x3 DWConv\n",
        "        self.depthwise_conv = nn.Conv2d(mid_channels, mid_channels, kernel_size=3,\n",
        "                                      stride=stride, padding=1, groups=mid_channels, bias=False)\n",
        "        self.bn2 = nn.BatchNorm2d(mid_channels)\n",
        "\n",
        "        # 1x1 GConv\n",
        "        self.group_conv2 = nn.Conv2d(mid_channels, out_channels if stride == 1 else out_channels - in_channels,\n",
        "                                   kernel_size=1, groups=groups, bias=False)\n",
        "        self.bn3 = nn.BatchNorm2d(out_channels if stride == 1 else out_channels - in_channels)\n",
        "\n",
        "        # Shortcut\n",
        "        if stride == 2:\n",
        "            self.shortcut = nn.AvgPool2d(kernel_size=3, stride=2, padding=1)\n",
        "        else:\n",
        "            self.shortcut = nn.Identity()\n",
        "\n",
        "    def channel_shuffle(self, x):\n",
        "      batchsize, num_channels, height, width = x.size()\n",
        "      channels_per_group = num_channels // self.groups\n",
        "      x = x.view(batchsize, self.groups, channels_per_group, height, width)\n",
        "      x = torch.transpose(x, 1, 2).contiguous()\n",
        "      x = x.view(batchsize, -1, height, width)\n",
        "      return x\n",
        "\n",
        "    def forward(self, x):\n",
        "        residual = self.shortcut(x)\n",
        "\n",
        "        x = F.relu(self.bn1(self.group_conv1(x)))\n",
        "\n",
        "        if self.groups > 1:\n",
        "          x = self.channel_shuffle(x)\n",
        "\n",
        "        x = self.bn2(self.depthwise_conv(x))\n",
        "        x = self.bn3(self.group_conv2(x))\n",
        "\n",
        "        if self.stride == 2:\n",
        "            x = torch.cat([x, residual], 1)\n",
        "        else:\n",
        "            x = x + residual\n",
        "\n",
        "        return F.relu(x)"
      ]
    },
    {
      "cell_type": "code",
      "execution_count": 101,
      "metadata": {
        "id": "OsjvM8qK9Vn-"
      },
      "outputs": [],
      "source": [
        "class Trainer:\n",
        "    def __init__(self,\n",
        "            model: nn.Module,\n",
        "            train_loader: DataLoader,\n",
        "            val_loader: DataLoader,\n",
        "            device: torch.device,\n",
        "            num_classes: int\n",
        "        ) -> None:\n",
        "        self.train_loader = train_loader\n",
        "        self.val_loader = val_loader\n",
        "        self.device = device\n",
        "        self.num_classes = num_classes\n",
        "        self.num_epochs = cfg[\"num_epochs\"]\n",
        "\n",
        "        self.model = model.to(device)\n",
        "        self.optimizer = AdamW(self.model.parameters(), lr=cfg[\"lr\"], weight_decay=cfg[\"wd\"])\n",
        "        num_steps = self.num_epochs * len(train_loader)\n",
        "        self.scheduler = OneCycleLR(self.optimizer, cfg[\"lr\"], total_steps=num_steps)\n",
        "\n",
        "        self.step = 0\n",
        "        self.best_acc = 0.0\n",
        "\n",
        "        wandb.init(name=cfg[\"run_name\"], config=cfg)\n",
        "        self.ckpt_path = Path(\"ckpts\")\n",
        "        self.ckpt_path.mkdir(exist_ok=True)\n",
        "\n",
        "    def logfn(self, values: Dict[str, Any]) -> None:\n",
        "        wandb.log(values, step=self.step, commit=False)\n",
        "\n",
        "    def train(self) -> None:\n",
        "        for _ in tqdm(range(self.num_epochs), desc=\"Epoch\"):\n",
        "            self.model.train()\n",
        "\n",
        "            for imgs, labels in self.train_loader:\n",
        "                imgs = imgs.to(self.device)\n",
        "                labels = labels.to(self.device)\n",
        "\n",
        "                pred = self.model(imgs)\n",
        "                loss = F.cross_entropy(pred, labels, label_smoothing=cfg[\"ls\"])\n",
        "\n",
        "                self.optimizer.zero_grad()\n",
        "                loss.backward()\n",
        "                self.optimizer.step()\n",
        "                self.scheduler.step()\n",
        "\n",
        "                if self.step % 10 == 0:\n",
        "                    self.logfn({\"train/loss\": loss.item()})\n",
        "                    self.logfn({\"train/lr\": self.scheduler.get_last_lr()[0]})\n",
        "\n",
        "                self.step += 1\n",
        "\n",
        "            self.eval(\"train\")\n",
        "            self.eval(\"val\")\n",
        "\n",
        "        wandb.finish()\n",
        "\n",
        "    @torch.no_grad()\n",
        "    def eval(self, split: str) -> None:\n",
        "        self.model.eval()\n",
        "\n",
        "        loader = self.train_loader if split == \"train\" else self.val_loader\n",
        "        confusion_matrix = torch.zeros(self.num_classes, self.num_classes, dtype=torch.int)\n",
        "\n",
        "        losses = []\n",
        "        for imgs, labels in loader:\n",
        "            imgs = imgs.to(self.device)\n",
        "            labels = labels.to(self.device)\n",
        "\n",
        "            scores = self.model(imgs)\n",
        "            loss = F.cross_entropy(scores, labels)\n",
        "            losses.append(loss.item())\n",
        "\n",
        "            preds = torch.argmax(scores, dim=-1)\n",
        "            for lbl, pred in zip(labels.view(-1), preds.view(-1)):\n",
        "                confusion_matrix[lbl.long(), pred.long()] += 1\n",
        "\n",
        "        mean_loss = sum(losses) / len(losses)\n",
        "        accuracy = (torch.diagonal(confusion_matrix).sum() / confusion_matrix.sum()).item()\n",
        "\n",
        "        self.logfn({f\"{split}/loss\": mean_loss})\n",
        "        self.logfn({f\"{split}/acc\": accuracy})\n",
        "\n",
        "        if split == \"val\":\n",
        "            conf_mtrx_df = pd.DataFrame(confusion_matrix)\n",
        "            plt.figure(figsize=(18, 15))\n",
        "            heatmap = sn.heatmap(conf_mtrx_df, annot=True, fmt=\"d\")\n",
        "            plt.title(f\"{split.capitalize()} Confusion Matrix\")\n",
        "            self.logfn({f\"{split}/confusion_matrix\": wandb.Image(heatmap.get_figure())})\n",
        "            plt.close()\n",
        "\n",
        "        if accuracy > self.best_acc and split == \"val\":\n",
        "            self.best_acc = accuracy\n",
        "            torch.save(self.model.state_dict(), self.ckpt_path / f\"{wandb.run.name}.pt\")\n",
        "            self.best_model = copy.deepcopy(self.model)"
      ]
    },
    {
      "cell_type": "code",
      "execution_count": 102,
      "metadata": {
        "colab": {
          "base_uri": "https://localhost:8080/",
          "height": 1000,
          "referenced_widgets": [
            "0690c166efc9438187be871f4a07fa83",
            "733184d6f7d64aec9a6240eaf92b19bc",
            "c19797afbf31477d8606498e581b4fdb",
            "274001c26b864e828e5506f0284a184b",
            "6375235b44914aa9a745121405378978",
            "4f4b99bb06d64bfebcfd5257e0c52488",
            "9be4f5fb43c64c3b905472abd2558a10",
            "f05e6619331b46609510bab4711d0891",
            "56bb4c9e28ae461abc373aadde33609c",
            "d35d2740dc544562af4ea6528f4d7525",
            "20032f6db9de491b9f5fcfaf2f4c8900"
          ]
        },
        "id": "tcXIGyrC9Vn_",
        "outputId": "60c81a57-6757-42cb-8683-279524324417"
      },
      "outputs": [
        {
          "output_type": "stream",
          "name": "stdout",
          "text": [
            "==========================================================================================\n",
            "Layer (type:depth-idx)                   Output Shape              Param #\n",
            "==========================================================================================\n",
            "TinyShuffleNet                           [64, 43]                  --\n",
            "├─Conv2d: 1-1                            [64, 96, 192, 192]        2,592\n",
            "├─BatchNorm2d: 1-2                       [64, 96, 192, 192]        192\n",
            "├─MaxPool2d: 1-3                         [64, 96, 96, 96]          --\n",
            "├─Sequential: 1-4                        [64, 192, 48, 48]         --\n",
            "│    └─ShuffleUnit: 2-1                  [64, 192, 48, 48]         --\n",
            "│    │    └─AvgPool2d: 3-1               [64, 96, 48, 48]          --\n",
            "│    │    └─Conv2d: 3-2                  [64, 48, 96, 96]          1,536\n",
            "│    │    └─BatchNorm2d: 3-3             [64, 48, 96, 96]          96\n",
            "│    │    └─Conv2d: 3-4                  [64, 48, 48, 48]          432\n",
            "│    │    └─BatchNorm2d: 3-5             [64, 48, 48, 48]          96\n",
            "│    │    └─Conv2d: 3-6                  [64, 96, 48, 48]          1,536\n",
            "│    │    └─BatchNorm2d: 3-7             [64, 96, 48, 48]          192\n",
            "│    └─ShuffleUnit: 2-2                  [64, 192, 48, 48]         --\n",
            "│    │    └─Identity: 3-8                [64, 192, 48, 48]         --\n",
            "│    │    └─Conv2d: 3-9                  [64, 48, 48, 48]          3,072\n",
            "│    │    └─BatchNorm2d: 3-10            [64, 48, 48, 48]          96\n",
            "│    │    └─Conv2d: 3-11                 [64, 48, 48, 48]          432\n",
            "│    │    └─BatchNorm2d: 3-12            [64, 48, 48, 48]          96\n",
            "│    │    └─Conv2d: 3-13                 [64, 192, 48, 48]         3,072\n",
            "│    │    └─BatchNorm2d: 3-14            [64, 192, 48, 48]         384\n",
            "├─Sequential: 1-5                        [64, 384, 24, 24]         --\n",
            "│    └─ShuffleUnit: 2-3                  [64, 384, 24, 24]         --\n",
            "│    │    └─AvgPool2d: 3-15              [64, 192, 24, 24]         --\n",
            "│    │    └─Conv2d: 3-16                 [64, 96, 48, 48]          6,144\n",
            "│    │    └─BatchNorm2d: 3-17            [64, 96, 48, 48]          192\n",
            "│    │    └─Conv2d: 3-18                 [64, 96, 24, 24]          864\n",
            "│    │    └─BatchNorm2d: 3-19            [64, 96, 24, 24]          192\n",
            "│    │    └─Conv2d: 3-20                 [64, 192, 24, 24]         6,144\n",
            "│    │    └─BatchNorm2d: 3-21            [64, 192, 24, 24]         384\n",
            "│    └─ShuffleUnit: 2-4                  [64, 384, 24, 24]         --\n",
            "│    │    └─Identity: 3-22               [64, 384, 24, 24]         --\n",
            "│    │    └─Conv2d: 3-23                 [64, 96, 24, 24]          12,288\n",
            "│    │    └─BatchNorm2d: 3-24            [64, 96, 24, 24]          192\n",
            "│    │    └─Conv2d: 3-25                 [64, 96, 24, 24]          864\n",
            "│    │    └─BatchNorm2d: 3-26            [64, 96, 24, 24]          192\n",
            "│    │    └─Conv2d: 3-27                 [64, 384, 24, 24]         12,288\n",
            "│    │    └─BatchNorm2d: 3-28            [64, 384, 24, 24]         768\n",
            "├─Sequential: 1-6                        [64, 768, 12, 12]         --\n",
            "│    └─ShuffleUnit: 2-5                  [64, 768, 12, 12]         --\n",
            "│    │    └─AvgPool2d: 3-29              [64, 384, 12, 12]         --\n",
            "│    │    └─Conv2d: 3-30                 [64, 192, 24, 24]         24,576\n",
            "│    │    └─BatchNorm2d: 3-31            [64, 192, 24, 24]         384\n",
            "│    │    └─Conv2d: 3-32                 [64, 192, 12, 12]         1,728\n",
            "│    │    └─BatchNorm2d: 3-33            [64, 192, 12, 12]         384\n",
            "│    │    └─Conv2d: 3-34                 [64, 384, 12, 12]         24,576\n",
            "│    │    └─BatchNorm2d: 3-35            [64, 384, 12, 12]         768\n",
            "│    └─ShuffleUnit: 2-6                  [64, 768, 12, 12]         --\n",
            "│    │    └─Identity: 3-36               [64, 768, 12, 12]         --\n",
            "│    │    └─Conv2d: 3-37                 [64, 192, 12, 12]         49,152\n",
            "│    │    └─BatchNorm2d: 3-38            [64, 192, 12, 12]         384\n",
            "│    │    └─Conv2d: 3-39                 [64, 192, 12, 12]         1,728\n",
            "│    │    └─BatchNorm2d: 3-40            [64, 192, 12, 12]         384\n",
            "│    │    └─Conv2d: 3-41                 [64, 768, 12, 12]         49,152\n",
            "│    │    └─BatchNorm2d: 3-42            [64, 768, 12, 12]         1,536\n",
            "├─AdaptiveAvgPool2d: 1-7                 [64, 768, 1, 1]           --\n",
            "├─Dropout: 1-8                           [64, 768]                 --\n",
            "├─Linear: 1-9                            [64, 43]                  33,067\n",
            "==========================================================================================\n",
            "Total params: 242,155\n",
            "Trainable params: 242,155\n",
            "Non-trainable params: 0\n",
            "Total mult-adds (G): 12.46\n",
            "==========================================================================================\n",
            "Input size (MB): 113.25\n",
            "Forward/backward pass size (MB): 6200.25\n",
            "Params size (MB): 0.97\n",
            "Estimated Total Size (MB): 6314.47\n",
            "==========================================================================================\n",
            "\n",
            "Network's n°params: 242.155k \tMAC: 12456.103M\n",
            "\n"
          ]
        },
        {
          "output_type": "display_data",
          "data": {
            "text/plain": [
              "<IPython.core.display.HTML object>"
            ],
            "text/html": [
              "Finishing last run (ID:ckuvckqc) before initializing another..."
            ]
          },
          "metadata": {}
        },
        {
          "output_type": "display_data",
          "data": {
            "text/plain": [
              "<IPython.core.display.HTML object>"
            ],
            "text/html": [
              "<style>\n",
              "    table.wandb td:nth-child(1) { padding: 0 10px; text-align: left ; width: auto;} td:nth-child(2) {text-align: left ; width: 100%}\n",
              "    .wandb-row { display: flex; flex-direction: row; flex-wrap: wrap; justify-content: flex-start; width: 100% }\n",
              "    .wandb-col { display: flex; flex-direction: column; flex-basis: 100%; flex: 1; padding: 10px; }\n",
              "    </style>\n",
              "<div class=\"wandb-row\"><div class=\"wandb-col\"><h3>Run history:</h3><br/><table class=\"wandb\"><tr><td>train/loss</td><td>▁</td></tr><tr><td>train/lr</td><td>▁</td></tr></table><br/></div><div class=\"wandb-col\"><h3>Run summary:</h3><br/><table class=\"wandb\"><tr><td>train/loss</td><td>3.90216</td></tr><tr><td>train/lr</td><td>4e-05</td></tr></table><br/></div></div>"
            ]
          },
          "metadata": {}
        },
        {
          "output_type": "display_data",
          "data": {
            "text/plain": [
              "<IPython.core.display.HTML object>"
            ],
            "text/html": [
              " View run <strong style=\"color:#cdcd00\">SHUFFLE_48C3G_DROPOUT_LS</strong> at: <a href='https://wandb.ai/aarcara/uncategorized/runs/ckuvckqc' target=\"_blank\">https://wandb.ai/aarcara/uncategorized/runs/ckuvckqc</a><br/> View project at: <a href='https://wandb.ai/aarcara/uncategorized' target=\"_blank\">https://wandb.ai/aarcara/uncategorized</a><br/>Synced 5 W&B file(s), 0 media file(s), 0 artifact file(s) and 0 other file(s)"
            ]
          },
          "metadata": {}
        },
        {
          "output_type": "display_data",
          "data": {
            "text/plain": [
              "<IPython.core.display.HTML object>"
            ],
            "text/html": [
              "Find logs at: <code>./wandb/run-20241109_174407-ckuvckqc/logs</code>"
            ]
          },
          "metadata": {}
        },
        {
          "output_type": "display_data",
          "data": {
            "text/plain": [
              "<IPython.core.display.HTML object>"
            ],
            "text/html": [
              "Successfully finished last run (ID:ckuvckqc). Initializing new run:<br/>"
            ]
          },
          "metadata": {}
        },
        {
          "output_type": "display_data",
          "data": {
            "text/plain": [
              "<IPython.core.display.HTML object>"
            ],
            "text/html": [
              "Tracking run with wandb version 0.18.5"
            ]
          },
          "metadata": {}
        },
        {
          "output_type": "display_data",
          "data": {
            "text/plain": [
              "<IPython.core.display.HTML object>"
            ],
            "text/html": [
              "Run data is saved locally in <code>/content/wandb/run-20241109_174424-fwics9g7</code>"
            ]
          },
          "metadata": {}
        },
        {
          "output_type": "display_data",
          "data": {
            "text/plain": [
              "<IPython.core.display.HTML object>"
            ],
            "text/html": [
              "Syncing run <strong><a href='https://wandb.ai/aarcara/uncategorized/runs/fwics9g7' target=\"_blank\">SHUFFLE_96C3G_DROPOUT_LS</a></strong> to <a href='https://wandb.ai/aarcara/uncategorized' target=\"_blank\">Weights & Biases</a> (<a href='https://wandb.me/run' target=\"_blank\">docs</a>)<br/>"
            ]
          },
          "metadata": {}
        },
        {
          "output_type": "display_data",
          "data": {
            "text/plain": [
              "<IPython.core.display.HTML object>"
            ],
            "text/html": [
              " View project at <a href='https://wandb.ai/aarcara/uncategorized' target=\"_blank\">https://wandb.ai/aarcara/uncategorized</a>"
            ]
          },
          "metadata": {}
        },
        {
          "output_type": "display_data",
          "data": {
            "text/plain": [
              "<IPython.core.display.HTML object>"
            ],
            "text/html": [
              " View run at <a href='https://wandb.ai/aarcara/uncategorized/runs/fwics9g7' target=\"_blank\">https://wandb.ai/aarcara/uncategorized/runs/fwics9g7</a>"
            ]
          },
          "metadata": {}
        },
        {
          "output_type": "display_data",
          "data": {
            "text/plain": [
              "Epoch:   0%|          | 0/100 [00:00<?, ?it/s]"
            ],
            "application/vnd.jupyter.widget-view+json": {
              "version_major": 2,
              "version_minor": 0,
              "model_id": "0690c166efc9438187be871f4a07fa83"
            }
          },
          "metadata": {}
        },
        {
          "output_type": "display_data",
          "data": {
            "text/plain": [
              "<IPython.core.display.HTML object>"
            ],
            "text/html": [
              "<style>\n",
              "    table.wandb td:nth-child(1) { padding: 0 10px; text-align: left ; width: auto;} td:nth-child(2) {text-align: left ; width: 100%}\n",
              "    .wandb-row { display: flex; flex-direction: row; flex-wrap: wrap; justify-content: flex-start; width: 100% }\n",
              "    .wandb-col { display: flex; flex-direction: column; flex-basis: 100%; flex: 1; padding: 10px; }\n",
              "    </style>\n",
              "<div class=\"wandb-row\"><div class=\"wandb-col\"><h3>Run history:</h3><br/><table class=\"wandb\"><tr><td>train/acc</td><td>▁▃▃▄▄▅▅▅▅▆▆▆▇▇▆▇▇▇▇▇█▇█▇▇███████████████</td></tr><tr><td>train/loss</td><td>█▅▅▅▃▄▄▄▃▄▃▂▃▃▃▃▃▃▁▃▃▃▃▁▃▂▃▃▃▂▃▂▂▃▃▂▂▁▃▃</td></tr><tr><td>train/lr</td><td>▁▁▂▂▃▄▅▅▆▇█████████▇▇▇▇▇▇▆▅▅▅▄▄▃▃▃▂▂▂▂▂▁</td></tr><tr><td>val/acc</td><td>▁▃▃▅▅▅▅▅▅▆▆▆▆▇▆▇▆▇▇▇█▆█▇▇▇▇▇████████████</td></tr><tr><td>val/loss</td><td>█▆▅▄▄▃▃▃▄▂▂▂▂▃▂▂▂▁▁▂▁▁▂▂▂▁▂▁▁▁▁▁▁▁▁▁▁▁▁▁</td></tr></table><br/></div><div class=\"wandb-col\"><h3>Run summary:</h3><br/><table class=\"wandb\"><tr><td>train/acc</td><td>0.97803</td></tr><tr><td>train/loss</td><td>0.17359</td></tr><tr><td>train/lr</td><td>0.0</td></tr><tr><td>val/acc</td><td>0.69932</td></tr><tr><td>val/loss</td><td>1.29939</td></tr></table><br/></div></div>"
            ]
          },
          "metadata": {}
        },
        {
          "output_type": "display_data",
          "data": {
            "text/plain": [
              "<IPython.core.display.HTML object>"
            ],
            "text/html": [
              " View run <strong style=\"color:#cdcd00\">SHUFFLE_96C3G_DROPOUT_LS</strong> at: <a href='https://wandb.ai/aarcara/uncategorized/runs/fwics9g7' target=\"_blank\">https://wandb.ai/aarcara/uncategorized/runs/fwics9g7</a><br/> View project at: <a href='https://wandb.ai/aarcara/uncategorized' target=\"_blank\">https://wandb.ai/aarcara/uncategorized</a><br/>Synced 5 W&B file(s), 0 media file(s), 0 artifact file(s) and 100 other file(s)"
            ]
          },
          "metadata": {}
        },
        {
          "output_type": "display_data",
          "data": {
            "text/plain": [
              "<IPython.core.display.HTML object>"
            ],
            "text/html": [
              "Find logs at: <code>./wandb/run-20241109_174424-fwics9g7/logs</code>"
            ]
          },
          "metadata": {}
        }
      ],
      "source": [
        "model = TinyShuffleNet(96, 3, train_dataset.get_num_classes())\n",
        "print_summary(model, (64, 3, 384, 384))\n",
        "\n",
        "cfg[\"run_name\"] = \"SHUFFLE_96C3G_DROPOUT_LS\"\n",
        "\n",
        "trainer = Trainer(\n",
        "    model,\n",
        "    train_loader,\n",
        "    val_loader,\n",
        "    device,\n",
        "    train_dataset.get_num_classes()\n",
        ")\n",
        "\n",
        "trainer.train()"
      ]
    },
    {
      "cell_type": "markdown",
      "metadata": {
        "id": "gkWEqSPoUIL3"
      },
      "source": [
        "## Part 2: fine-tune an existing network\n",
        "\n",
        "Your goal is to fine-tune a pretrained **ResNet-18** model on `GroceryStoreDataset`. Use the implementation provided by PyTorch, do not implement it yourselves! (i.e. exactly what you **could not** do in the first part of the assignment). Specifically, you must use the PyTorch ResNet-18 model pretrained on ImageNet-1K (V1). Divide your fine-tuning into two parts:\n",
        "\n",
        "1. First, fine-tune the Resnet-18 with the same training hyperparameters you used for your best model in the first part of the assignment.\n",
        "1. Then, tweak the training hyperparameters in order to increase the accuracy on the validation split of `GroceryStoreDataset`. Justify your choices by analyzing the training plots and/or citing sources that guided you in your decisions (papers, blog posts, YouTube videos, or whatever else you find enlightening). You should consider yourselves satisfied once you obtain a classification accuracy on the **validation** split **between 80 and 90%**."
      ]
    },
    {
      "cell_type": "code",
      "source": [
        "from torchvision.models import resnet18, ResNet18_Weights\n",
        "\n",
        "weights = ResNet18_Weights.IMAGENET1K_V1\n",
        "resnet18 = resnet18(weights=weights)\n",
        "\n",
        "def set_requires_grad(layer: torch.nn.Module, train: bool) -> None:\n",
        "    \"\"\"Sets the requires_grad attribute to True or False for each parameter within a layer.\n",
        "\n",
        "        Args:\n",
        "            layer: the layer to freeze.\n",
        "            train: if true train the layer.\n",
        "    \"\"\"\n",
        "    for p in layer.parameters():\n",
        "        p.requires_grad = train\n",
        "\n",
        "set_requires_grad(resnet18.conv1, False)\n",
        "set_requires_grad(resnet18.bn1, False)\n",
        "set_requires_grad(resnet18.layer1, False)\n",
        "set_requires_grad(resnet18.layer2, False)\n",
        "set_requires_grad(resnet18.layer3, False)\n",
        "set_requires_grad(resnet18.layer4, False)\n",
        "\n",
        "resnet18.fc = nn.Sequential(\n",
        "    nn.Dropout(0.5),\n",
        "    nn.Linear(resnet18.fc.in_features, train_dataset.get_num_classes()),\n",
        ")\n",
        "\n",
        "print_summary(\n",
        "    resnet18,\n",
        "    input_size=(64, 3, cfg[\"resize_size\"], cfg[\"resize_size\"])\n",
        ")\n",
        "\n",
        "cfg[\"run_name\"] = \"resnet18_finetune\"\n",
        "cfg[\"num_epochs\"] = 10\n",
        "\n",
        "resnet18_trainer = Trainer(\n",
        "    resnet18,\n",
        "    train_loader,\n",
        "    val_loader,\n",
        "    device,\n",
        "    train_dataset.get_num_classes()\n",
        ")\n",
        "\n",
        "resnet18_trainer.train()"
      ],
      "metadata": {
        "colab": {
          "base_uri": "https://localhost:8080/",
          "height": 1000,
          "referenced_widgets": [
            "2ec7301d151c467b8138955ea8e20a7f",
            "d5ab4d8b8d6f4220aa4beeff84ff1f7b",
            "076c7f347fd540918cae9bc4e4f713f3",
            "627f1f35b59a45c4b14d44faae378354",
            "004d7d4ce89442dbae5bba5875becd94",
            "b60e690eb19f4449ad223c0dfd5454b0",
            "b902c3e64c4d46eb85eef2d6a9b62ba2",
            "708f692871a143e8be09c5a8ec47e5a2",
            "8f52772dc02848b2bf9b6e5bb0a732bd",
            "e35fcc1a929d4c2ebf9fe1d0da116c1f",
            "050622d366ef4e509b29cd241ad45b31"
          ]
        },
        "id": "X3m-_KGUKrG8",
        "outputId": "f8ba92af-253d-4c47-f32f-40cf68c2a91e"
      },
      "execution_count": 123,
      "outputs": [
        {
          "output_type": "stream",
          "name": "stdout",
          "text": [
            "==========================================================================================\n",
            "Layer (type:depth-idx)                   Output Shape              Param #\n",
            "==========================================================================================\n",
            "ResNet                                   [64, 43]                  --\n",
            "├─Conv2d: 1-1                            [64, 64, 192, 192]        (9,408)\n",
            "├─BatchNorm2d: 1-2                       [64, 64, 192, 192]        (128)\n",
            "├─ReLU: 1-3                              [64, 64, 192, 192]        --\n",
            "├─MaxPool2d: 1-4                         [64, 64, 96, 96]          --\n",
            "├─Sequential: 1-5                        [64, 64, 96, 96]          --\n",
            "│    └─BasicBlock: 2-1                   [64, 64, 96, 96]          --\n",
            "│    │    └─Conv2d: 3-1                  [64, 64, 96, 96]          (36,864)\n",
            "│    │    └─BatchNorm2d: 3-2             [64, 64, 96, 96]          (128)\n",
            "│    │    └─ReLU: 3-3                    [64, 64, 96, 96]          --\n",
            "│    │    └─Conv2d: 3-4                  [64, 64, 96, 96]          (36,864)\n",
            "│    │    └─BatchNorm2d: 3-5             [64, 64, 96, 96]          (128)\n",
            "│    │    └─ReLU: 3-6                    [64, 64, 96, 96]          --\n",
            "│    └─BasicBlock: 2-2                   [64, 64, 96, 96]          --\n",
            "│    │    └─Conv2d: 3-7                  [64, 64, 96, 96]          (36,864)\n",
            "│    │    └─BatchNorm2d: 3-8             [64, 64, 96, 96]          (128)\n",
            "│    │    └─ReLU: 3-9                    [64, 64, 96, 96]          --\n",
            "│    │    └─Conv2d: 3-10                 [64, 64, 96, 96]          (36,864)\n",
            "│    │    └─BatchNorm2d: 3-11            [64, 64, 96, 96]          (128)\n",
            "│    │    └─ReLU: 3-12                   [64, 64, 96, 96]          --\n",
            "├─Sequential: 1-6                        [64, 128, 48, 48]         --\n",
            "│    └─BasicBlock: 2-3                   [64, 128, 48, 48]         --\n",
            "│    │    └─Conv2d: 3-13                 [64, 128, 48, 48]         (73,728)\n",
            "│    │    └─BatchNorm2d: 3-14            [64, 128, 48, 48]         (256)\n",
            "│    │    └─ReLU: 3-15                   [64, 128, 48, 48]         --\n",
            "│    │    └─Conv2d: 3-16                 [64, 128, 48, 48]         (147,456)\n",
            "│    │    └─BatchNorm2d: 3-17            [64, 128, 48, 48]         (256)\n",
            "│    │    └─Sequential: 3-18             [64, 128, 48, 48]         (8,448)\n",
            "│    │    └─ReLU: 3-19                   [64, 128, 48, 48]         --\n",
            "│    └─BasicBlock: 2-4                   [64, 128, 48, 48]         --\n",
            "│    │    └─Conv2d: 3-20                 [64, 128, 48, 48]         (147,456)\n",
            "│    │    └─BatchNorm2d: 3-21            [64, 128, 48, 48]         (256)\n",
            "│    │    └─ReLU: 3-22                   [64, 128, 48, 48]         --\n",
            "│    │    └─Conv2d: 3-23                 [64, 128, 48, 48]         (147,456)\n",
            "│    │    └─BatchNorm2d: 3-24            [64, 128, 48, 48]         (256)\n",
            "│    │    └─ReLU: 3-25                   [64, 128, 48, 48]         --\n",
            "├─Sequential: 1-7                        [64, 256, 24, 24]         --\n",
            "│    └─BasicBlock: 2-5                   [64, 256, 24, 24]         --\n",
            "│    │    └─Conv2d: 3-26                 [64, 256, 24, 24]         (294,912)\n",
            "│    │    └─BatchNorm2d: 3-27            [64, 256, 24, 24]         (512)\n",
            "│    │    └─ReLU: 3-28                   [64, 256, 24, 24]         --\n",
            "│    │    └─Conv2d: 3-29                 [64, 256, 24, 24]         (589,824)\n",
            "│    │    └─BatchNorm2d: 3-30            [64, 256, 24, 24]         (512)\n",
            "│    │    └─Sequential: 3-31             [64, 256, 24, 24]         (33,280)\n",
            "│    │    └─ReLU: 3-32                   [64, 256, 24, 24]         --\n",
            "│    └─BasicBlock: 2-6                   [64, 256, 24, 24]         --\n",
            "│    │    └─Conv2d: 3-33                 [64, 256, 24, 24]         (589,824)\n",
            "│    │    └─BatchNorm2d: 3-34            [64, 256, 24, 24]         (512)\n",
            "│    │    └─ReLU: 3-35                   [64, 256, 24, 24]         --\n",
            "│    │    └─Conv2d: 3-36                 [64, 256, 24, 24]         (589,824)\n",
            "│    │    └─BatchNorm2d: 3-37            [64, 256, 24, 24]         (512)\n",
            "│    │    └─ReLU: 3-38                   [64, 256, 24, 24]         --\n",
            "├─Sequential: 1-8                        [64, 512, 12, 12]         --\n",
            "│    └─BasicBlock: 2-7                   [64, 512, 12, 12]         --\n",
            "│    │    └─Conv2d: 3-39                 [64, 512, 12, 12]         (1,179,648)\n",
            "│    │    └─BatchNorm2d: 3-40            [64, 512, 12, 12]         (1,024)\n",
            "│    │    └─ReLU: 3-41                   [64, 512, 12, 12]         --\n",
            "│    │    └─Conv2d: 3-42                 [64, 512, 12, 12]         (2,359,296)\n",
            "│    │    └─BatchNorm2d: 3-43            [64, 512, 12, 12]         (1,024)\n",
            "│    │    └─Sequential: 3-44             [64, 512, 12, 12]         (132,096)\n",
            "│    │    └─ReLU: 3-45                   [64, 512, 12, 12]         --\n",
            "│    └─BasicBlock: 2-8                   [64, 512, 12, 12]         --\n",
            "│    │    └─Conv2d: 3-46                 [64, 512, 12, 12]         (2,359,296)\n",
            "│    │    └─BatchNorm2d: 3-47            [64, 512, 12, 12]         (1,024)\n",
            "│    │    └─ReLU: 3-48                   [64, 512, 12, 12]         --\n",
            "│    │    └─Conv2d: 3-49                 [64, 512, 12, 12]         (2,359,296)\n",
            "│    │    └─BatchNorm2d: 3-50            [64, 512, 12, 12]         (1,024)\n",
            "│    │    └─ReLU: 3-51                   [64, 512, 12, 12]         --\n",
            "├─AdaptiveAvgPool2d: 1-9                 [64, 512, 1, 1]           --\n",
            "├─Sequential: 1-10                       [64, 43]                  --\n",
            "│    └─Dropout: 2-9                      [64, 512]                 --\n",
            "│    └─Linear: 2-10                      [64, 43]                  22,059\n",
            "==========================================================================================\n",
            "Total params: 11,198,571\n",
            "Trainable params: 22,059\n",
            "Non-trainable params: 11,176,512\n",
            "Total mult-adds (G): 341.10\n",
            "==========================================================================================\n",
            "Input size (MB): 113.25\n",
            "Forward/backward pass size (MB): 7474.27\n",
            "Params size (MB): 44.79\n",
            "Estimated Total Size (MB): 7632.31\n",
            "==========================================================================================\n",
            "\n",
            "Network's n°params: 11198.571k \tMAC: 341099.605M\n",
            "\n"
          ]
        },
        {
          "output_type": "display_data",
          "data": {
            "text/plain": [
              "<IPython.core.display.HTML object>"
            ],
            "text/html": [
              "Finishing last run (ID:2kfjmzjr) before initializing another..."
            ]
          },
          "metadata": {}
        },
        {
          "output_type": "display_data",
          "data": {
            "text/plain": [
              "<IPython.core.display.HTML object>"
            ],
            "text/html": [
              "<style>\n",
              "    table.wandb td:nth-child(1) { padding: 0 10px; text-align: left ; width: auto;} td:nth-child(2) {text-align: left ; width: 100%}\n",
              "    .wandb-row { display: flex; flex-direction: row; flex-wrap: wrap; justify-content: flex-start; width: 100% }\n",
              "    .wandb-col { display: flex; flex-direction: column; flex-basis: 100%; flex: 1; padding: 10px; }\n",
              "    </style>\n",
              "<div class=\"wandb-row\"><div class=\"wandb-col\"><h3>Run history:</h3><br/><table class=\"wandb\"><tr><td>train/acc</td><td>▁▃▅▆█</td></tr><tr><td>train/loss</td><td>▇▆▆▄▇▄▇█▅▅▃▅▅▄▄▃▄▄▅▅▂▄▄█▄▁</td></tr><tr><td>train/lr</td><td>▁▁▁▁▁▁▂▂▂▂▃▃▄▄▄▅▆▆▇▇█</td></tr><tr><td>val/acc</td><td>▁▄▆█</td></tr><tr><td>val/loss</td><td>█▅▃▁</td></tr></table><br/></div><div class=\"wandb-col\"><h3>Run summary:</h3><br/><table class=\"wandb\"><tr><td>train/acc</td><td>0.1</td></tr><tr><td>train/loss</td><td>3.71007</td></tr><tr><td>train/lr</td><td>1e-05</td></tr><tr><td>val/acc</td><td>0.0777</td></tr><tr><td>val/loss</td><td>3.79075</td></tr></table><br/></div></div>"
            ]
          },
          "metadata": {}
        },
        {
          "output_type": "display_data",
          "data": {
            "text/plain": [
              "<IPython.core.display.HTML object>"
            ],
            "text/html": [
              " View run <strong style=\"color:#cdcd00\">resnet18_finetune</strong> at: <a href='https://wandb.ai/aarcara/uncategorized/runs/2kfjmzjr' target=\"_blank\">https://wandb.ai/aarcara/uncategorized/runs/2kfjmzjr</a><br/> View project at: <a href='https://wandb.ai/aarcara/uncategorized' target=\"_blank\">https://wandb.ai/aarcara/uncategorized</a><br/>Synced 5 W&B file(s), 0 media file(s), 0 artifact file(s) and 4 other file(s)"
            ]
          },
          "metadata": {}
        },
        {
          "output_type": "display_data",
          "data": {
            "text/plain": [
              "<IPython.core.display.HTML object>"
            ],
            "text/html": [
              "Find logs at: <code>./wandb/run-20241109_193443-2kfjmzjr/logs</code>"
            ]
          },
          "metadata": {}
        },
        {
          "output_type": "display_data",
          "data": {
            "text/plain": [
              "<IPython.core.display.HTML object>"
            ],
            "text/html": [
              "Successfully finished last run (ID:2kfjmzjr). Initializing new run:<br/>"
            ]
          },
          "metadata": {}
        },
        {
          "output_type": "display_data",
          "data": {
            "text/plain": [
              "<IPython.core.display.HTML object>"
            ],
            "text/html": [
              "Tracking run with wandb version 0.18.5"
            ]
          },
          "metadata": {}
        },
        {
          "output_type": "display_data",
          "data": {
            "text/plain": [
              "<IPython.core.display.HTML object>"
            ],
            "text/html": [
              "Run data is saved locally in <code>/content/wandb/run-20241109_193720-en7d9hts</code>"
            ]
          },
          "metadata": {}
        },
        {
          "output_type": "display_data",
          "data": {
            "text/plain": [
              "<IPython.core.display.HTML object>"
            ],
            "text/html": [
              "Syncing run <strong><a href='https://wandb.ai/aarcara/uncategorized/runs/en7d9hts' target=\"_blank\">resnet18_finetune</a></strong> to <a href='https://wandb.ai/aarcara/uncategorized' target=\"_blank\">Weights & Biases</a> (<a href='https://wandb.me/run' target=\"_blank\">docs</a>)<br/>"
            ]
          },
          "metadata": {}
        },
        {
          "output_type": "display_data",
          "data": {
            "text/plain": [
              "<IPython.core.display.HTML object>"
            ],
            "text/html": [
              " View project at <a href='https://wandb.ai/aarcara/uncategorized' target=\"_blank\">https://wandb.ai/aarcara/uncategorized</a>"
            ]
          },
          "metadata": {}
        },
        {
          "output_type": "display_data",
          "data": {
            "text/plain": [
              "<IPython.core.display.HTML object>"
            ],
            "text/html": [
              " View run at <a href='https://wandb.ai/aarcara/uncategorized/runs/en7d9hts' target=\"_blank\">https://wandb.ai/aarcara/uncategorized/runs/en7d9hts</a>"
            ]
          },
          "metadata": {}
        },
        {
          "output_type": "display_data",
          "data": {
            "text/plain": [
              "Epoch:   0%|          | 0/10 [00:00<?, ?it/s]"
            ],
            "application/vnd.jupyter.widget-view+json": {
              "version_major": 2,
              "version_minor": 0,
              "model_id": "2ec7301d151c467b8138955ea8e20a7f"
            }
          },
          "metadata": {}
        },
        {
          "output_type": "display_data",
          "data": {
            "text/plain": [
              "<IPython.core.display.HTML object>"
            ],
            "text/html": [
              "<style>\n",
              "    table.wandb td:nth-child(1) { padding: 0 10px; text-align: left ; width: auto;} td:nth-child(2) {text-align: left ; width: 100%}\n",
              "    .wandb-row { display: flex; flex-direction: row; flex-wrap: wrap; justify-content: flex-start; width: 100% }\n",
              "    .wandb-col { display: flex; flex-direction: column; flex-basis: 100%; flex: 1; padding: 10px; }\n",
              "    </style>\n",
              "<div class=\"wandb-row\"><div class=\"wandb-col\"><h3>Run history:</h3><br/><table class=\"wandb\"><tr><td>train/acc</td><td>▁▃▅▆▆▇▇███</td></tr><tr><td>train/loss</td><td>██▇▇▇▇▇▇▆▅▆▅▅▃▅▅▅▃▃▄▅▄▃▃▃▃▃▃▂▁▄▃▂▁▄▃▁▂▂▁</td></tr><tr><td>train/lr</td><td>▁▁▂▂▃▄▅▅▆▇▇███████▇▇▇▆▆▆▅▅▅▄▄▃▃▃▂▂▂▂▁▁▁▁</td></tr><tr><td>val/acc</td><td>▁▃▄▅▆▇▇███</td></tr><tr><td>val/loss</td><td>█▆▅▃▃▂▁▁▁▁</td></tr></table><br/></div><div class=\"wandb-col\"><h3>Run summary:</h3><br/><table class=\"wandb\"><tr><td>train/acc</td><td>0.27045</td></tr><tr><td>train/loss</td><td>2.80524</td></tr><tr><td>train/lr</td><td>0.0</td></tr><tr><td>val/acc</td><td>0.31081</td></tr><tr><td>val/loss</td><td>2.90025</td></tr></table><br/></div></div>"
            ]
          },
          "metadata": {}
        },
        {
          "output_type": "display_data",
          "data": {
            "text/plain": [
              "<IPython.core.display.HTML object>"
            ],
            "text/html": [
              " View run <strong style=\"color:#cdcd00\">resnet18_finetune</strong> at: <a href='https://wandb.ai/aarcara/uncategorized/runs/en7d9hts' target=\"_blank\">https://wandb.ai/aarcara/uncategorized/runs/en7d9hts</a><br/> View project at: <a href='https://wandb.ai/aarcara/uncategorized' target=\"_blank\">https://wandb.ai/aarcara/uncategorized</a><br/>Synced 5 W&B file(s), 0 media file(s), 0 artifact file(s) and 10 other file(s)"
            ]
          },
          "metadata": {}
        },
        {
          "output_type": "display_data",
          "data": {
            "text/plain": [
              "<IPython.core.display.HTML object>"
            ],
            "text/html": [
              "Find logs at: <code>./wandb/run-20241109_193720-en7d9hts/logs</code>"
            ]
          },
          "metadata": {}
        }
      ]
    },
    {
      "cell_type": "code",
      "source": [
        "set_requires_grad(resnet18.conv1, True)\n",
        "set_requires_grad(resnet18.bn1, True)\n",
        "set_requires_grad(resnet18.layer1, True)\n",
        "set_requires_grad(resnet18.layer2, True)\n",
        "set_requires_grad(resnet18.layer3, True)\n",
        "set_requires_grad(resnet18.layer4, True)\n",
        "\n",
        "cfg[\"num_epochs\"] = 10\n",
        "cfg[\"lr\"] = 1e-4\n",
        "\n",
        "resnet18_trainer = Trainer(\n",
        "    resnet18,\n",
        "    train_loader,\n",
        "    val_loader,\n",
        "    device,\n",
        "    train_dataset.get_num_classes()\n",
        ")\n",
        "\n",
        "resnet18_trainer.train()"
      ],
      "metadata": {
        "colab": {
          "base_uri": "https://localhost:8080/",
          "height": 403,
          "referenced_widgets": [
            "7ef1146d753d4a4ea30169f750397fac",
            "da1e047065544a2ea6097d62f960a1b6",
            "47760fa250074b0095b44373e4e1acd4",
            "f0f2a9585e954ad9ab949b78c9808305",
            "a3ad4a29853f48e1b06f657ee0645e2b",
            "12874bc83f0a43888ee151c1ede6624e",
            "d812aa4800a74860b6123b99444d956b",
            "9659e50705fe455e9d399b0ee8344b6d",
            "c3dabc72f7d8499aaea26eeaec83e76b",
            "db5f2cae470b4003a0ae2cceab6e55dd",
            "8c82548909db43f2bec5433171ed9e11"
          ]
        },
        "id": "Ti4Xj6ZJNiy1",
        "outputId": "9d359e5c-dee1-4396-ac83-e2fd9374f0c3"
      },
      "execution_count": 124,
      "outputs": [
        {
          "output_type": "display_data",
          "data": {
            "text/plain": [
              "<IPython.core.display.HTML object>"
            ],
            "text/html": [
              "Tracking run with wandb version 0.18.5"
            ]
          },
          "metadata": {}
        },
        {
          "output_type": "display_data",
          "data": {
            "text/plain": [
              "<IPython.core.display.HTML object>"
            ],
            "text/html": [
              "Run data is saved locally in <code>/content/wandb/run-20241109_194156-5m8xgkg1</code>"
            ]
          },
          "metadata": {}
        },
        {
          "output_type": "display_data",
          "data": {
            "text/plain": [
              "<IPython.core.display.HTML object>"
            ],
            "text/html": [
              "Syncing run <strong><a href='https://wandb.ai/aarcara/uncategorized/runs/5m8xgkg1' target=\"_blank\">resnet18_finetune</a></strong> to <a href='https://wandb.ai/aarcara/uncategorized' target=\"_blank\">Weights & Biases</a> (<a href='https://wandb.me/run' target=\"_blank\">docs</a>)<br/>"
            ]
          },
          "metadata": {}
        },
        {
          "output_type": "display_data",
          "data": {
            "text/plain": [
              "<IPython.core.display.HTML object>"
            ],
            "text/html": [
              " View project at <a href='https://wandb.ai/aarcara/uncategorized' target=\"_blank\">https://wandb.ai/aarcara/uncategorized</a>"
            ]
          },
          "metadata": {}
        },
        {
          "output_type": "display_data",
          "data": {
            "text/plain": [
              "<IPython.core.display.HTML object>"
            ],
            "text/html": [
              " View run at <a href='https://wandb.ai/aarcara/uncategorized/runs/5m8xgkg1' target=\"_blank\">https://wandb.ai/aarcara/uncategorized/runs/5m8xgkg1</a>"
            ]
          },
          "metadata": {}
        },
        {
          "output_type": "display_data",
          "data": {
            "text/plain": [
              "Epoch:   0%|          | 0/10 [00:00<?, ?it/s]"
            ],
            "application/vnd.jupyter.widget-view+json": {
              "version_major": 2,
              "version_minor": 0,
              "model_id": "7ef1146d753d4a4ea30169f750397fac"
            }
          },
          "metadata": {}
        },
        {
          "output_type": "display_data",
          "data": {
            "text/plain": [
              "<IPython.core.display.HTML object>"
            ],
            "text/html": [
              "<style>\n",
              "    table.wandb td:nth-child(1) { padding: 0 10px; text-align: left ; width: auto;} td:nth-child(2) {text-align: left ; width: 100%}\n",
              "    .wandb-row { display: flex; flex-direction: row; flex-wrap: wrap; justify-content: flex-start; width: 100% }\n",
              "    .wandb-col { display: flex; flex-direction: column; flex-basis: 100%; flex: 1; padding: 10px; }\n",
              "    </style>\n",
              "<div class=\"wandb-row\"><div class=\"wandb-col\"><h3>Run history:</h3><br/><table class=\"wandb\"><tr><td>train/acc</td><td>▁▄▆▇██████</td></tr><tr><td>train/loss</td><td>███▇▆▆▅▄▅▄▄▂▃▄▃▂▃▃▃▃▃▃▃▃▁▃▃▃▁▃▃▃▁▃▃▃▁▃▃▁</td></tr><tr><td>train/lr</td><td>▁▁▂▂▃▄▅▅▆▇▇███████▇▇▇▆▆▆▅▅▅▄▄▃▃▃▂▂▂▂▁▁▁▁</td></tr><tr><td>val/acc</td><td>▁▄▅▆█▇████</td></tr><tr><td>val/loss</td><td>█▅▃▂▁▂▁▁▁▁</td></tr></table><br/></div><div class=\"wandb-col\"><h3>Run summary:</h3><br/><table class=\"wandb\"><tr><td>train/acc</td><td>0.97879</td></tr><tr><td>train/loss</td><td>0.22078</td></tr><tr><td>train/lr</td><td>0.0</td></tr><tr><td>val/acc</td><td>0.90203</td></tr><tr><td>val/loss</td><td>0.56993</td></tr></table><br/></div></div>"
            ]
          },
          "metadata": {}
        },
        {
          "output_type": "display_data",
          "data": {
            "text/plain": [
              "<IPython.core.display.HTML object>"
            ],
            "text/html": [
              " View run <strong style=\"color:#cdcd00\">resnet18_finetune</strong> at: <a href='https://wandb.ai/aarcara/uncategorized/runs/5m8xgkg1' target=\"_blank\">https://wandb.ai/aarcara/uncategorized/runs/5m8xgkg1</a><br/> View project at: <a href='https://wandb.ai/aarcara/uncategorized' target=\"_blank\">https://wandb.ai/aarcara/uncategorized</a><br/>Synced 5 W&B file(s), 0 media file(s), 0 artifact file(s) and 10 other file(s)"
            ]
          },
          "metadata": {}
        },
        {
          "output_type": "display_data",
          "data": {
            "text/plain": [
              "<IPython.core.display.HTML object>"
            ],
            "text/html": [
              "Find logs at: <code>./wandb/run-20241109_194156-5m8xgkg1/logs</code>"
            ]
          },
          "metadata": {}
        }
      ]
    },
    {
      "cell_type": "code",
      "source": [],
      "metadata": {
        "id": "GGjqrrNIcogi"
      },
      "execution_count": null,
      "outputs": []
    }
  ],
  "metadata": {
    "colab": {
      "gpuType": "A100",
      "provenance": [],
      "machine_shape": "hm"
    },
    "kernelspec": {
      "display_name": "Python 3",
      "name": "python3"
    },
    "language_info": {
      "codemirror_mode": {
        "name": "ipython",
        "version": 3
      },
      "file_extension": ".py",
      "mimetype": "text/x-python",
      "name": "python",
      "nbconvert_exporter": "python",
      "pygments_lexer": "ipython3",
      "version": "3.12.3"
    },
    "accelerator": "GPU",
    "widgets": {
      "application/vnd.jupyter.widget-state+json": {
        "0690c166efc9438187be871f4a07fa83": {
          "model_module": "@jupyter-widgets/controls",
          "model_name": "HBoxModel",
          "model_module_version": "1.5.0",
          "state": {
            "_dom_classes": [],
            "_model_module": "@jupyter-widgets/controls",
            "_model_module_version": "1.5.0",
            "_model_name": "HBoxModel",
            "_view_count": null,
            "_view_module": "@jupyter-widgets/controls",
            "_view_module_version": "1.5.0",
            "_view_name": "HBoxView",
            "box_style": "",
            "children": [
              "IPY_MODEL_733184d6f7d64aec9a6240eaf92b19bc",
              "IPY_MODEL_c19797afbf31477d8606498e581b4fdb",
              "IPY_MODEL_274001c26b864e828e5506f0284a184b"
            ],
            "layout": "IPY_MODEL_6375235b44914aa9a745121405378978"
          }
        },
        "733184d6f7d64aec9a6240eaf92b19bc": {
          "model_module": "@jupyter-widgets/controls",
          "model_name": "HTMLModel",
          "model_module_version": "1.5.0",
          "state": {
            "_dom_classes": [],
            "_model_module": "@jupyter-widgets/controls",
            "_model_module_version": "1.5.0",
            "_model_name": "HTMLModel",
            "_view_count": null,
            "_view_module": "@jupyter-widgets/controls",
            "_view_module_version": "1.5.0",
            "_view_name": "HTMLView",
            "description": "",
            "description_tooltip": null,
            "layout": "IPY_MODEL_4f4b99bb06d64bfebcfd5257e0c52488",
            "placeholder": "​",
            "style": "IPY_MODEL_9be4f5fb43c64c3b905472abd2558a10",
            "value": "Epoch: 100%"
          }
        },
        "c19797afbf31477d8606498e581b4fdb": {
          "model_module": "@jupyter-widgets/controls",
          "model_name": "FloatProgressModel",
          "model_module_version": "1.5.0",
          "state": {
            "_dom_classes": [],
            "_model_module": "@jupyter-widgets/controls",
            "_model_module_version": "1.5.0",
            "_model_name": "FloatProgressModel",
            "_view_count": null,
            "_view_module": "@jupyter-widgets/controls",
            "_view_module_version": "1.5.0",
            "_view_name": "ProgressView",
            "bar_style": "success",
            "description": "",
            "description_tooltip": null,
            "layout": "IPY_MODEL_f05e6619331b46609510bab4711d0891",
            "max": 100,
            "min": 0,
            "orientation": "horizontal",
            "style": "IPY_MODEL_56bb4c9e28ae461abc373aadde33609c",
            "value": 100
          }
        },
        "274001c26b864e828e5506f0284a184b": {
          "model_module": "@jupyter-widgets/controls",
          "model_name": "HTMLModel",
          "model_module_version": "1.5.0",
          "state": {
            "_dom_classes": [],
            "_model_module": "@jupyter-widgets/controls",
            "_model_module_version": "1.5.0",
            "_model_name": "HTMLModel",
            "_view_count": null,
            "_view_module": "@jupyter-widgets/controls",
            "_view_module_version": "1.5.0",
            "_view_name": "HTMLView",
            "description": "",
            "description_tooltip": null,
            "layout": "IPY_MODEL_d35d2740dc544562af4ea6528f4d7525",
            "placeholder": "​",
            "style": "IPY_MODEL_20032f6db9de491b9f5fcfaf2f4c8900",
            "value": " 100/100 [32:57&lt;00:00, 19.68s/it]"
          }
        },
        "6375235b44914aa9a745121405378978": {
          "model_module": "@jupyter-widgets/base",
          "model_name": "LayoutModel",
          "model_module_version": "1.2.0",
          "state": {
            "_model_module": "@jupyter-widgets/base",
            "_model_module_version": "1.2.0",
            "_model_name": "LayoutModel",
            "_view_count": null,
            "_view_module": "@jupyter-widgets/base",
            "_view_module_version": "1.2.0",
            "_view_name": "LayoutView",
            "align_content": null,
            "align_items": null,
            "align_self": null,
            "border": null,
            "bottom": null,
            "display": null,
            "flex": null,
            "flex_flow": null,
            "grid_area": null,
            "grid_auto_columns": null,
            "grid_auto_flow": null,
            "grid_auto_rows": null,
            "grid_column": null,
            "grid_gap": null,
            "grid_row": null,
            "grid_template_areas": null,
            "grid_template_columns": null,
            "grid_template_rows": null,
            "height": null,
            "justify_content": null,
            "justify_items": null,
            "left": null,
            "margin": null,
            "max_height": null,
            "max_width": null,
            "min_height": null,
            "min_width": null,
            "object_fit": null,
            "object_position": null,
            "order": null,
            "overflow": null,
            "overflow_x": null,
            "overflow_y": null,
            "padding": null,
            "right": null,
            "top": null,
            "visibility": null,
            "width": null
          }
        },
        "4f4b99bb06d64bfebcfd5257e0c52488": {
          "model_module": "@jupyter-widgets/base",
          "model_name": "LayoutModel",
          "model_module_version": "1.2.0",
          "state": {
            "_model_module": "@jupyter-widgets/base",
            "_model_module_version": "1.2.0",
            "_model_name": "LayoutModel",
            "_view_count": null,
            "_view_module": "@jupyter-widgets/base",
            "_view_module_version": "1.2.0",
            "_view_name": "LayoutView",
            "align_content": null,
            "align_items": null,
            "align_self": null,
            "border": null,
            "bottom": null,
            "display": null,
            "flex": null,
            "flex_flow": null,
            "grid_area": null,
            "grid_auto_columns": null,
            "grid_auto_flow": null,
            "grid_auto_rows": null,
            "grid_column": null,
            "grid_gap": null,
            "grid_row": null,
            "grid_template_areas": null,
            "grid_template_columns": null,
            "grid_template_rows": null,
            "height": null,
            "justify_content": null,
            "justify_items": null,
            "left": null,
            "margin": null,
            "max_height": null,
            "max_width": null,
            "min_height": null,
            "min_width": null,
            "object_fit": null,
            "object_position": null,
            "order": null,
            "overflow": null,
            "overflow_x": null,
            "overflow_y": null,
            "padding": null,
            "right": null,
            "top": null,
            "visibility": null,
            "width": null
          }
        },
        "9be4f5fb43c64c3b905472abd2558a10": {
          "model_module": "@jupyter-widgets/controls",
          "model_name": "DescriptionStyleModel",
          "model_module_version": "1.5.0",
          "state": {
            "_model_module": "@jupyter-widgets/controls",
            "_model_module_version": "1.5.0",
            "_model_name": "DescriptionStyleModel",
            "_view_count": null,
            "_view_module": "@jupyter-widgets/base",
            "_view_module_version": "1.2.0",
            "_view_name": "StyleView",
            "description_width": ""
          }
        },
        "f05e6619331b46609510bab4711d0891": {
          "model_module": "@jupyter-widgets/base",
          "model_name": "LayoutModel",
          "model_module_version": "1.2.0",
          "state": {
            "_model_module": "@jupyter-widgets/base",
            "_model_module_version": "1.2.0",
            "_model_name": "LayoutModel",
            "_view_count": null,
            "_view_module": "@jupyter-widgets/base",
            "_view_module_version": "1.2.0",
            "_view_name": "LayoutView",
            "align_content": null,
            "align_items": null,
            "align_self": null,
            "border": null,
            "bottom": null,
            "display": null,
            "flex": null,
            "flex_flow": null,
            "grid_area": null,
            "grid_auto_columns": null,
            "grid_auto_flow": null,
            "grid_auto_rows": null,
            "grid_column": null,
            "grid_gap": null,
            "grid_row": null,
            "grid_template_areas": null,
            "grid_template_columns": null,
            "grid_template_rows": null,
            "height": null,
            "justify_content": null,
            "justify_items": null,
            "left": null,
            "margin": null,
            "max_height": null,
            "max_width": null,
            "min_height": null,
            "min_width": null,
            "object_fit": null,
            "object_position": null,
            "order": null,
            "overflow": null,
            "overflow_x": null,
            "overflow_y": null,
            "padding": null,
            "right": null,
            "top": null,
            "visibility": null,
            "width": null
          }
        },
        "56bb4c9e28ae461abc373aadde33609c": {
          "model_module": "@jupyter-widgets/controls",
          "model_name": "ProgressStyleModel",
          "model_module_version": "1.5.0",
          "state": {
            "_model_module": "@jupyter-widgets/controls",
            "_model_module_version": "1.5.0",
            "_model_name": "ProgressStyleModel",
            "_view_count": null,
            "_view_module": "@jupyter-widgets/base",
            "_view_module_version": "1.2.0",
            "_view_name": "StyleView",
            "bar_color": null,
            "description_width": ""
          }
        },
        "d35d2740dc544562af4ea6528f4d7525": {
          "model_module": "@jupyter-widgets/base",
          "model_name": "LayoutModel",
          "model_module_version": "1.2.0",
          "state": {
            "_model_module": "@jupyter-widgets/base",
            "_model_module_version": "1.2.0",
            "_model_name": "LayoutModel",
            "_view_count": null,
            "_view_module": "@jupyter-widgets/base",
            "_view_module_version": "1.2.0",
            "_view_name": "LayoutView",
            "align_content": null,
            "align_items": null,
            "align_self": null,
            "border": null,
            "bottom": null,
            "display": null,
            "flex": null,
            "flex_flow": null,
            "grid_area": null,
            "grid_auto_columns": null,
            "grid_auto_flow": null,
            "grid_auto_rows": null,
            "grid_column": null,
            "grid_gap": null,
            "grid_row": null,
            "grid_template_areas": null,
            "grid_template_columns": null,
            "grid_template_rows": null,
            "height": null,
            "justify_content": null,
            "justify_items": null,
            "left": null,
            "margin": null,
            "max_height": null,
            "max_width": null,
            "min_height": null,
            "min_width": null,
            "object_fit": null,
            "object_position": null,
            "order": null,
            "overflow": null,
            "overflow_x": null,
            "overflow_y": null,
            "padding": null,
            "right": null,
            "top": null,
            "visibility": null,
            "width": null
          }
        },
        "20032f6db9de491b9f5fcfaf2f4c8900": {
          "model_module": "@jupyter-widgets/controls",
          "model_name": "DescriptionStyleModel",
          "model_module_version": "1.5.0",
          "state": {
            "_model_module": "@jupyter-widgets/controls",
            "_model_module_version": "1.5.0",
            "_model_name": "DescriptionStyleModel",
            "_view_count": null,
            "_view_module": "@jupyter-widgets/base",
            "_view_module_version": "1.2.0",
            "_view_name": "StyleView",
            "description_width": ""
          }
        },
        "2ec7301d151c467b8138955ea8e20a7f": {
          "model_module": "@jupyter-widgets/controls",
          "model_name": "HBoxModel",
          "model_module_version": "1.5.0",
          "state": {
            "_dom_classes": [],
            "_model_module": "@jupyter-widgets/controls",
            "_model_module_version": "1.5.0",
            "_model_name": "HBoxModel",
            "_view_count": null,
            "_view_module": "@jupyter-widgets/controls",
            "_view_module_version": "1.5.0",
            "_view_name": "HBoxView",
            "box_style": "",
            "children": [
              "IPY_MODEL_d5ab4d8b8d6f4220aa4beeff84ff1f7b",
              "IPY_MODEL_076c7f347fd540918cae9bc4e4f713f3",
              "IPY_MODEL_627f1f35b59a45c4b14d44faae378354"
            ],
            "layout": "IPY_MODEL_004d7d4ce89442dbae5bba5875becd94"
          }
        },
        "d5ab4d8b8d6f4220aa4beeff84ff1f7b": {
          "model_module": "@jupyter-widgets/controls",
          "model_name": "HTMLModel",
          "model_module_version": "1.5.0",
          "state": {
            "_dom_classes": [],
            "_model_module": "@jupyter-widgets/controls",
            "_model_module_version": "1.5.0",
            "_model_name": "HTMLModel",
            "_view_count": null,
            "_view_module": "@jupyter-widgets/controls",
            "_view_module_version": "1.5.0",
            "_view_name": "HTMLView",
            "description": "",
            "description_tooltip": null,
            "layout": "IPY_MODEL_b60e690eb19f4449ad223c0dfd5454b0",
            "placeholder": "​",
            "style": "IPY_MODEL_b902c3e64c4d46eb85eef2d6a9b62ba2",
            "value": "Epoch: 100%"
          }
        },
        "076c7f347fd540918cae9bc4e4f713f3": {
          "model_module": "@jupyter-widgets/controls",
          "model_name": "FloatProgressModel",
          "model_module_version": "1.5.0",
          "state": {
            "_dom_classes": [],
            "_model_module": "@jupyter-widgets/controls",
            "_model_module_version": "1.5.0",
            "_model_name": "FloatProgressModel",
            "_view_count": null,
            "_view_module": "@jupyter-widgets/controls",
            "_view_module_version": "1.5.0",
            "_view_name": "ProgressView",
            "bar_style": "success",
            "description": "",
            "description_tooltip": null,
            "layout": "IPY_MODEL_708f692871a143e8be09c5a8ec47e5a2",
            "max": 10,
            "min": 0,
            "orientation": "horizontal",
            "style": "IPY_MODEL_8f52772dc02848b2bf9b6e5bb0a732bd",
            "value": 10
          }
        },
        "627f1f35b59a45c4b14d44faae378354": {
          "model_module": "@jupyter-widgets/controls",
          "model_name": "HTMLModel",
          "model_module_version": "1.5.0",
          "state": {
            "_dom_classes": [],
            "_model_module": "@jupyter-widgets/controls",
            "_model_module_version": "1.5.0",
            "_model_name": "HTMLModel",
            "_view_count": null,
            "_view_module": "@jupyter-widgets/controls",
            "_view_module_version": "1.5.0",
            "_view_name": "HTMLView",
            "description": "",
            "description_tooltip": null,
            "layout": "IPY_MODEL_e35fcc1a929d4c2ebf9fe1d0da116c1f",
            "placeholder": "​",
            "style": "IPY_MODEL_050622d366ef4e509b29cd241ad45b31",
            "value": " 10/10 [03:10&lt;00:00, 19.12s/it]"
          }
        },
        "004d7d4ce89442dbae5bba5875becd94": {
          "model_module": "@jupyter-widgets/base",
          "model_name": "LayoutModel",
          "model_module_version": "1.2.0",
          "state": {
            "_model_module": "@jupyter-widgets/base",
            "_model_module_version": "1.2.0",
            "_model_name": "LayoutModel",
            "_view_count": null,
            "_view_module": "@jupyter-widgets/base",
            "_view_module_version": "1.2.0",
            "_view_name": "LayoutView",
            "align_content": null,
            "align_items": null,
            "align_self": null,
            "border": null,
            "bottom": null,
            "display": null,
            "flex": null,
            "flex_flow": null,
            "grid_area": null,
            "grid_auto_columns": null,
            "grid_auto_flow": null,
            "grid_auto_rows": null,
            "grid_column": null,
            "grid_gap": null,
            "grid_row": null,
            "grid_template_areas": null,
            "grid_template_columns": null,
            "grid_template_rows": null,
            "height": null,
            "justify_content": null,
            "justify_items": null,
            "left": null,
            "margin": null,
            "max_height": null,
            "max_width": null,
            "min_height": null,
            "min_width": null,
            "object_fit": null,
            "object_position": null,
            "order": null,
            "overflow": null,
            "overflow_x": null,
            "overflow_y": null,
            "padding": null,
            "right": null,
            "top": null,
            "visibility": null,
            "width": null
          }
        },
        "b60e690eb19f4449ad223c0dfd5454b0": {
          "model_module": "@jupyter-widgets/base",
          "model_name": "LayoutModel",
          "model_module_version": "1.2.0",
          "state": {
            "_model_module": "@jupyter-widgets/base",
            "_model_module_version": "1.2.0",
            "_model_name": "LayoutModel",
            "_view_count": null,
            "_view_module": "@jupyter-widgets/base",
            "_view_module_version": "1.2.0",
            "_view_name": "LayoutView",
            "align_content": null,
            "align_items": null,
            "align_self": null,
            "border": null,
            "bottom": null,
            "display": null,
            "flex": null,
            "flex_flow": null,
            "grid_area": null,
            "grid_auto_columns": null,
            "grid_auto_flow": null,
            "grid_auto_rows": null,
            "grid_column": null,
            "grid_gap": null,
            "grid_row": null,
            "grid_template_areas": null,
            "grid_template_columns": null,
            "grid_template_rows": null,
            "height": null,
            "justify_content": null,
            "justify_items": null,
            "left": null,
            "margin": null,
            "max_height": null,
            "max_width": null,
            "min_height": null,
            "min_width": null,
            "object_fit": null,
            "object_position": null,
            "order": null,
            "overflow": null,
            "overflow_x": null,
            "overflow_y": null,
            "padding": null,
            "right": null,
            "top": null,
            "visibility": null,
            "width": null
          }
        },
        "b902c3e64c4d46eb85eef2d6a9b62ba2": {
          "model_module": "@jupyter-widgets/controls",
          "model_name": "DescriptionStyleModel",
          "model_module_version": "1.5.0",
          "state": {
            "_model_module": "@jupyter-widgets/controls",
            "_model_module_version": "1.5.0",
            "_model_name": "DescriptionStyleModel",
            "_view_count": null,
            "_view_module": "@jupyter-widgets/base",
            "_view_module_version": "1.2.0",
            "_view_name": "StyleView",
            "description_width": ""
          }
        },
        "708f692871a143e8be09c5a8ec47e5a2": {
          "model_module": "@jupyter-widgets/base",
          "model_name": "LayoutModel",
          "model_module_version": "1.2.0",
          "state": {
            "_model_module": "@jupyter-widgets/base",
            "_model_module_version": "1.2.0",
            "_model_name": "LayoutModel",
            "_view_count": null,
            "_view_module": "@jupyter-widgets/base",
            "_view_module_version": "1.2.0",
            "_view_name": "LayoutView",
            "align_content": null,
            "align_items": null,
            "align_self": null,
            "border": null,
            "bottom": null,
            "display": null,
            "flex": null,
            "flex_flow": null,
            "grid_area": null,
            "grid_auto_columns": null,
            "grid_auto_flow": null,
            "grid_auto_rows": null,
            "grid_column": null,
            "grid_gap": null,
            "grid_row": null,
            "grid_template_areas": null,
            "grid_template_columns": null,
            "grid_template_rows": null,
            "height": null,
            "justify_content": null,
            "justify_items": null,
            "left": null,
            "margin": null,
            "max_height": null,
            "max_width": null,
            "min_height": null,
            "min_width": null,
            "object_fit": null,
            "object_position": null,
            "order": null,
            "overflow": null,
            "overflow_x": null,
            "overflow_y": null,
            "padding": null,
            "right": null,
            "top": null,
            "visibility": null,
            "width": null
          }
        },
        "8f52772dc02848b2bf9b6e5bb0a732bd": {
          "model_module": "@jupyter-widgets/controls",
          "model_name": "ProgressStyleModel",
          "model_module_version": "1.5.0",
          "state": {
            "_model_module": "@jupyter-widgets/controls",
            "_model_module_version": "1.5.0",
            "_model_name": "ProgressStyleModel",
            "_view_count": null,
            "_view_module": "@jupyter-widgets/base",
            "_view_module_version": "1.2.0",
            "_view_name": "StyleView",
            "bar_color": null,
            "description_width": ""
          }
        },
        "e35fcc1a929d4c2ebf9fe1d0da116c1f": {
          "model_module": "@jupyter-widgets/base",
          "model_name": "LayoutModel",
          "model_module_version": "1.2.0",
          "state": {
            "_model_module": "@jupyter-widgets/base",
            "_model_module_version": "1.2.0",
            "_model_name": "LayoutModel",
            "_view_count": null,
            "_view_module": "@jupyter-widgets/base",
            "_view_module_version": "1.2.0",
            "_view_name": "LayoutView",
            "align_content": null,
            "align_items": null,
            "align_self": null,
            "border": null,
            "bottom": null,
            "display": null,
            "flex": null,
            "flex_flow": null,
            "grid_area": null,
            "grid_auto_columns": null,
            "grid_auto_flow": null,
            "grid_auto_rows": null,
            "grid_column": null,
            "grid_gap": null,
            "grid_row": null,
            "grid_template_areas": null,
            "grid_template_columns": null,
            "grid_template_rows": null,
            "height": null,
            "justify_content": null,
            "justify_items": null,
            "left": null,
            "margin": null,
            "max_height": null,
            "max_width": null,
            "min_height": null,
            "min_width": null,
            "object_fit": null,
            "object_position": null,
            "order": null,
            "overflow": null,
            "overflow_x": null,
            "overflow_y": null,
            "padding": null,
            "right": null,
            "top": null,
            "visibility": null,
            "width": null
          }
        },
        "050622d366ef4e509b29cd241ad45b31": {
          "model_module": "@jupyter-widgets/controls",
          "model_name": "DescriptionStyleModel",
          "model_module_version": "1.5.0",
          "state": {
            "_model_module": "@jupyter-widgets/controls",
            "_model_module_version": "1.5.0",
            "_model_name": "DescriptionStyleModel",
            "_view_count": null,
            "_view_module": "@jupyter-widgets/base",
            "_view_module_version": "1.2.0",
            "_view_name": "StyleView",
            "description_width": ""
          }
        },
        "7ef1146d753d4a4ea30169f750397fac": {
          "model_module": "@jupyter-widgets/controls",
          "model_name": "HBoxModel",
          "model_module_version": "1.5.0",
          "state": {
            "_dom_classes": [],
            "_model_module": "@jupyter-widgets/controls",
            "_model_module_version": "1.5.0",
            "_model_name": "HBoxModel",
            "_view_count": null,
            "_view_module": "@jupyter-widgets/controls",
            "_view_module_version": "1.5.0",
            "_view_name": "HBoxView",
            "box_style": "",
            "children": [
              "IPY_MODEL_da1e047065544a2ea6097d62f960a1b6",
              "IPY_MODEL_47760fa250074b0095b44373e4e1acd4",
              "IPY_MODEL_f0f2a9585e954ad9ab949b78c9808305"
            ],
            "layout": "IPY_MODEL_a3ad4a29853f48e1b06f657ee0645e2b"
          }
        },
        "da1e047065544a2ea6097d62f960a1b6": {
          "model_module": "@jupyter-widgets/controls",
          "model_name": "HTMLModel",
          "model_module_version": "1.5.0",
          "state": {
            "_dom_classes": [],
            "_model_module": "@jupyter-widgets/controls",
            "_model_module_version": "1.5.0",
            "_model_name": "HTMLModel",
            "_view_count": null,
            "_view_module": "@jupyter-widgets/controls",
            "_view_module_version": "1.5.0",
            "_view_name": "HTMLView",
            "description": "",
            "description_tooltip": null,
            "layout": "IPY_MODEL_12874bc83f0a43888ee151c1ede6624e",
            "placeholder": "​",
            "style": "IPY_MODEL_d812aa4800a74860b6123b99444d956b",
            "value": "Epoch: 100%"
          }
        },
        "47760fa250074b0095b44373e4e1acd4": {
          "model_module": "@jupyter-widgets/controls",
          "model_name": "FloatProgressModel",
          "model_module_version": "1.5.0",
          "state": {
            "_dom_classes": [],
            "_model_module": "@jupyter-widgets/controls",
            "_model_module_version": "1.5.0",
            "_model_name": "FloatProgressModel",
            "_view_count": null,
            "_view_module": "@jupyter-widgets/controls",
            "_view_module_version": "1.5.0",
            "_view_name": "ProgressView",
            "bar_style": "success",
            "description": "",
            "description_tooltip": null,
            "layout": "IPY_MODEL_9659e50705fe455e9d399b0ee8344b6d",
            "max": 10,
            "min": 0,
            "orientation": "horizontal",
            "style": "IPY_MODEL_c3dabc72f7d8499aaea26eeaec83e76b",
            "value": 10
          }
        },
        "f0f2a9585e954ad9ab949b78c9808305": {
          "model_module": "@jupyter-widgets/controls",
          "model_name": "HTMLModel",
          "model_module_version": "1.5.0",
          "state": {
            "_dom_classes": [],
            "_model_module": "@jupyter-widgets/controls",
            "_model_module_version": "1.5.0",
            "_model_name": "HTMLModel",
            "_view_count": null,
            "_view_module": "@jupyter-widgets/controls",
            "_view_module_version": "1.5.0",
            "_view_name": "HTMLView",
            "description": "",
            "description_tooltip": null,
            "layout": "IPY_MODEL_db5f2cae470b4003a0ae2cceab6e55dd",
            "placeholder": "​",
            "style": "IPY_MODEL_8c82548909db43f2bec5433171ed9e11",
            "value": " 10/10 [03:32&lt;00:00, 21.06s/it]"
          }
        },
        "a3ad4a29853f48e1b06f657ee0645e2b": {
          "model_module": "@jupyter-widgets/base",
          "model_name": "LayoutModel",
          "model_module_version": "1.2.0",
          "state": {
            "_model_module": "@jupyter-widgets/base",
            "_model_module_version": "1.2.0",
            "_model_name": "LayoutModel",
            "_view_count": null,
            "_view_module": "@jupyter-widgets/base",
            "_view_module_version": "1.2.0",
            "_view_name": "LayoutView",
            "align_content": null,
            "align_items": null,
            "align_self": null,
            "border": null,
            "bottom": null,
            "display": null,
            "flex": null,
            "flex_flow": null,
            "grid_area": null,
            "grid_auto_columns": null,
            "grid_auto_flow": null,
            "grid_auto_rows": null,
            "grid_column": null,
            "grid_gap": null,
            "grid_row": null,
            "grid_template_areas": null,
            "grid_template_columns": null,
            "grid_template_rows": null,
            "height": null,
            "justify_content": null,
            "justify_items": null,
            "left": null,
            "margin": null,
            "max_height": null,
            "max_width": null,
            "min_height": null,
            "min_width": null,
            "object_fit": null,
            "object_position": null,
            "order": null,
            "overflow": null,
            "overflow_x": null,
            "overflow_y": null,
            "padding": null,
            "right": null,
            "top": null,
            "visibility": null,
            "width": null
          }
        },
        "12874bc83f0a43888ee151c1ede6624e": {
          "model_module": "@jupyter-widgets/base",
          "model_name": "LayoutModel",
          "model_module_version": "1.2.0",
          "state": {
            "_model_module": "@jupyter-widgets/base",
            "_model_module_version": "1.2.0",
            "_model_name": "LayoutModel",
            "_view_count": null,
            "_view_module": "@jupyter-widgets/base",
            "_view_module_version": "1.2.0",
            "_view_name": "LayoutView",
            "align_content": null,
            "align_items": null,
            "align_self": null,
            "border": null,
            "bottom": null,
            "display": null,
            "flex": null,
            "flex_flow": null,
            "grid_area": null,
            "grid_auto_columns": null,
            "grid_auto_flow": null,
            "grid_auto_rows": null,
            "grid_column": null,
            "grid_gap": null,
            "grid_row": null,
            "grid_template_areas": null,
            "grid_template_columns": null,
            "grid_template_rows": null,
            "height": null,
            "justify_content": null,
            "justify_items": null,
            "left": null,
            "margin": null,
            "max_height": null,
            "max_width": null,
            "min_height": null,
            "min_width": null,
            "object_fit": null,
            "object_position": null,
            "order": null,
            "overflow": null,
            "overflow_x": null,
            "overflow_y": null,
            "padding": null,
            "right": null,
            "top": null,
            "visibility": null,
            "width": null
          }
        },
        "d812aa4800a74860b6123b99444d956b": {
          "model_module": "@jupyter-widgets/controls",
          "model_name": "DescriptionStyleModel",
          "model_module_version": "1.5.0",
          "state": {
            "_model_module": "@jupyter-widgets/controls",
            "_model_module_version": "1.5.0",
            "_model_name": "DescriptionStyleModel",
            "_view_count": null,
            "_view_module": "@jupyter-widgets/base",
            "_view_module_version": "1.2.0",
            "_view_name": "StyleView",
            "description_width": ""
          }
        },
        "9659e50705fe455e9d399b0ee8344b6d": {
          "model_module": "@jupyter-widgets/base",
          "model_name": "LayoutModel",
          "model_module_version": "1.2.0",
          "state": {
            "_model_module": "@jupyter-widgets/base",
            "_model_module_version": "1.2.0",
            "_model_name": "LayoutModel",
            "_view_count": null,
            "_view_module": "@jupyter-widgets/base",
            "_view_module_version": "1.2.0",
            "_view_name": "LayoutView",
            "align_content": null,
            "align_items": null,
            "align_self": null,
            "border": null,
            "bottom": null,
            "display": null,
            "flex": null,
            "flex_flow": null,
            "grid_area": null,
            "grid_auto_columns": null,
            "grid_auto_flow": null,
            "grid_auto_rows": null,
            "grid_column": null,
            "grid_gap": null,
            "grid_row": null,
            "grid_template_areas": null,
            "grid_template_columns": null,
            "grid_template_rows": null,
            "height": null,
            "justify_content": null,
            "justify_items": null,
            "left": null,
            "margin": null,
            "max_height": null,
            "max_width": null,
            "min_height": null,
            "min_width": null,
            "object_fit": null,
            "object_position": null,
            "order": null,
            "overflow": null,
            "overflow_x": null,
            "overflow_y": null,
            "padding": null,
            "right": null,
            "top": null,
            "visibility": null,
            "width": null
          }
        },
        "c3dabc72f7d8499aaea26eeaec83e76b": {
          "model_module": "@jupyter-widgets/controls",
          "model_name": "ProgressStyleModel",
          "model_module_version": "1.5.0",
          "state": {
            "_model_module": "@jupyter-widgets/controls",
            "_model_module_version": "1.5.0",
            "_model_name": "ProgressStyleModel",
            "_view_count": null,
            "_view_module": "@jupyter-widgets/base",
            "_view_module_version": "1.2.0",
            "_view_name": "StyleView",
            "bar_color": null,
            "description_width": ""
          }
        },
        "db5f2cae470b4003a0ae2cceab6e55dd": {
          "model_module": "@jupyter-widgets/base",
          "model_name": "LayoutModel",
          "model_module_version": "1.2.0",
          "state": {
            "_model_module": "@jupyter-widgets/base",
            "_model_module_version": "1.2.0",
            "_model_name": "LayoutModel",
            "_view_count": null,
            "_view_module": "@jupyter-widgets/base",
            "_view_module_version": "1.2.0",
            "_view_name": "LayoutView",
            "align_content": null,
            "align_items": null,
            "align_self": null,
            "border": null,
            "bottom": null,
            "display": null,
            "flex": null,
            "flex_flow": null,
            "grid_area": null,
            "grid_auto_columns": null,
            "grid_auto_flow": null,
            "grid_auto_rows": null,
            "grid_column": null,
            "grid_gap": null,
            "grid_row": null,
            "grid_template_areas": null,
            "grid_template_columns": null,
            "grid_template_rows": null,
            "height": null,
            "justify_content": null,
            "justify_items": null,
            "left": null,
            "margin": null,
            "max_height": null,
            "max_width": null,
            "min_height": null,
            "min_width": null,
            "object_fit": null,
            "object_position": null,
            "order": null,
            "overflow": null,
            "overflow_x": null,
            "overflow_y": null,
            "padding": null,
            "right": null,
            "top": null,
            "visibility": null,
            "width": null
          }
        },
        "8c82548909db43f2bec5433171ed9e11": {
          "model_module": "@jupyter-widgets/controls",
          "model_name": "DescriptionStyleModel",
          "model_module_version": "1.5.0",
          "state": {
            "_model_module": "@jupyter-widgets/controls",
            "_model_module_version": "1.5.0",
            "_model_name": "DescriptionStyleModel",
            "_view_count": null,
            "_view_module": "@jupyter-widgets/base",
            "_view_module_version": "1.2.0",
            "_view_name": "StyleView",
            "description_width": ""
          }
        }
      }
    }
  },
  "nbformat": 4,
  "nbformat_minor": 0
}